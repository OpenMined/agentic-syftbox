{
 "cells": [
  {
   "cell_type": "code",
   "execution_count": 8,
   "id": "75a18eee",
   "metadata": {},
   "outputs": [],
   "source": [
    "from playwright.async_api import async_playwright, Page, Request, Response, Cookie\n"
   ]
  },
  {
   "cell_type": "code",
   "execution_count": 14,
   "id": "4b8c3f79",
   "metadata": {},
   "outputs": [],
   "source": [
    "from time import sleep"
   ]
  },
  {
   "cell_type": "code",
   "execution_count": 18,
   "id": "b7dac953",
   "metadata": {},
   "outputs": [],
   "source": [
    "from pathlib import Path"
   ]
  },
  {
   "cell_type": "code",
   "execution_count": 19,
   "id": "2a096590",
   "metadata": {},
   "outputs": [],
   "source": [
    "MACOS_CHROME_USER_DATA_DIR = Path(\n",
    "    \"~/Library/Application Support/Google/Chrome\"\n",
    ").expanduser()"
   ]
  },
  {
   "cell_type": "code",
   "execution_count": null,
   "id": "2f3c1024",
   "metadata": {},
   "outputs": [],
   "source": [
    "async with async_playwright() as p:\n",
    "    browser = await p.chromium.launch_persistent_context(\n",
    "                channel=\"chrome\",\n",
    "                user_data_dir=MACOS_CHROME_USER_DATA_DIR,\n",
    "                # user_data_dir=\"\",\n",
    "                headless=False,\n",
    "                args=[\n",
    "                    \"--window-size=1280,800\",\n",
    "                    \"--window-position=100,100\",\n",
    "                    \"--no-first-run\",\n",
    "                    \"--no-default-browser-check\",\n",
    "                    \"--disable-infobars\",  # 🛑 Used to work, now often ignored\n",
    "                    \"--disable-blink-features=AutomationControlled\",  # ✅ Helps hide some automation signals\n",
    "                ],\n",
    "            )\n",
    "    context = browser\n",
    "    \n",
    "    sleep(1)\n",
    "    page = await context.new_page()\n",
    "    \n",
    "    workspace_url = f\"https://openmined.slack.com\"\n",
    "    print(f\"Opening browser to: {workspace_url}\")\n",
    "    await page.goto(workspace_url)\n",
    "    sleep(10)\n"
   ]
  },
  {
   "cell_type": "code",
   "execution_count": null,
   "id": "b8ea5207",
   "metadata": {},
   "outputs": [
    {
     "ename": "AttributeError",
     "evalue": "module 'playwright' has no attribute 'chromium'",
     "output_type": "error",
     "traceback": [
      "\u001b[31m---------------------------------------------------------------------------\u001b[39m",
      "\u001b[31mAttributeError\u001b[39m                            Traceback (most recent call last)",
      "\u001b[36mCell\u001b[39m\u001b[36m \u001b[39m\u001b[32mIn[4]\u001b[39m\u001b[32m, line 1\u001b[39m\n\u001b[32m----> \u001b[39m\u001b[32m1\u001b[39m browser = \u001b[38;5;28;01mawait\u001b[39;00m \u001b[43mplaywright\u001b[49m\u001b[43m.\u001b[49m\u001b[43mchromium\u001b[49m.launch_persistent_context(\n\u001b[32m      2\u001b[39m                 channel=\u001b[33m\"\u001b[39m\u001b[33mchrome\u001b[39m\u001b[33m\"\u001b[39m,\n\u001b[32m      3\u001b[39m                 user_data_dir=\u001b[33m\"\u001b[39m\u001b[33m/tmp/abc\u001b[39m\u001b[33m\"\u001b[39m,\n\u001b[32m      4\u001b[39m                 args=[\n\u001b[32m      5\u001b[39m                     \u001b[33m\"\u001b[39m\u001b[33m--window-size=1280,800\u001b[39m\u001b[33m\"\u001b[39m,\n\u001b[32m      6\u001b[39m                     \u001b[33m\"\u001b[39m\u001b[33m--window-position=100,100\u001b[39m\u001b[33m\"\u001b[39m,\n\u001b[32m      7\u001b[39m                     \u001b[33m\"\u001b[39m\u001b[33m--no-first-run\u001b[39m\u001b[33m\"\u001b[39m,\n\u001b[32m      8\u001b[39m                     \u001b[33m\"\u001b[39m\u001b[33m--no-default-browser-check\u001b[39m\u001b[33m\"\u001b[39m,\n\u001b[32m      9\u001b[39m                 ],\n\u001b[32m     10\u001b[39m             )\n",
      "\u001b[31mAttributeError\u001b[39m: module 'playwright' has no attribute 'chromium'"
     ]
    }
   ],
   "source": []
  },
  {
   "cell_type": "code",
   "execution_count": null,
   "id": "7c7374d2",
   "metadata": {},
   "outputs": [],
   "source": []
  }
 ],
 "metadata": {
  "kernelspec": {
   "display_name": "Python 3 (ipykernel)",
   "language": "python",
   "name": "python3"
  },
  "language_info": {
   "codemirror_mode": {
    "name": "ipython",
    "version": 3
   },
   "file_extension": ".py",
   "mimetype": "text/x-python",
   "name": "python",
   "nbconvert_exporter": "python",
   "pygments_lexer": "ipython3",
   "version": "3.12.11"
  }
 },
 "nbformat": 4,
 "nbformat_minor": 5
}
