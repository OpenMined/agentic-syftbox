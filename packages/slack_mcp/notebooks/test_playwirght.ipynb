{
 "cells": [
  {
   "cell_type": "code",
   "execution_count": 4,
   "id": "75a18eee",
   "metadata": {},
   "outputs": [],
   "source": [
    "from playwright.async_api import async_playwright, Page, Request, Response, Cookie\n"
   ]
  },
  {
   "cell_type": "code",
   "execution_count": 5,
   "id": "4b8c3f79",
   "metadata": {},
   "outputs": [],
   "source": [
    "from time import sleep"
   ]
  },
  {
   "cell_type": "code",
   "execution_count": 6,
   "id": "b7dac953",
   "metadata": {},
   "outputs": [],
   "source": [
    "from pathlib import Path"
   ]
  },
  {
   "cell_type": "code",
   "execution_count": 7,
   "id": "2a096590",
   "metadata": {},
   "outputs": [],
   "source": [
    "MACOS_CHROME_USER_DATA_DIR = Path(\n",
    "    \"~/Library/Application Support/Google/Chrome\"\n",
    ").expanduser()"
   ]
  },
  {
   "cell_type": "code",
   "execution_count": 8,
   "id": "2f3c1024",
   "metadata": {},
   "outputs": [
    {
     "ename": "TimeoutError",
     "evalue": "BrowserType.launch_persistent_context: Timeout 180000ms exceeded.\nCall log:\n  - <launching> /Applications/Google Chrome.app/Contents/MacOS/Google Chrome --disable-field-trial-config --disable-background-networking --disable-background-timer-throttling --disable-backgrounding-occluded-windows --disable-back-forward-cache --disable-breakpad --disable-client-side-phishing-detection --disable-component-extensions-with-background-pages --disable-component-update --no-default-browser-check --disable-default-apps --disable-dev-shm-usage --disable-extensions --disable-features=AcceptCHFrame,AutoExpandDetailsElement,AvoidUnnecessaryBeforeUnloadCheckSync,CertificateTransparencyComponentUpdater,DestroyProfileOnBrowserClose,DialMediaRouteProvider,ExtensionManifestV2Disabled,GlobalMediaControls,HttpsUpgrades,ImprovedCookieControls,LazyFrameLoading,LensOverlay,MediaRouter,PaintHolding,ThirdPartyStoragePartitioning,Translate --allow-pre-commit-input --disable-hang-monitor --disable-ipc-flooding-protection --disable-popup-blocking --disable-prompt-on-repost --disable-renderer-backgrounding --force-color-profile=srgb --metrics-recording-only --no-first-run --password-store=basic --use-mock-keychain --no-service-autorun --export-tagged-pdf --disable-search-engine-choice-screen --unsafely-disable-devtools-self-xss-warnings --enable-automation --enable-use-zoom-for-dsf=false --no-sandbox --window-size=1280,800 --window-position=100,100 --no-first-run --no-default-browser-check --disable-infobars --disable-blink-features=AutomationControlled --user-data-dir=/Users/koen/Library/Application Support/Google/Chrome --remote-debugging-pipe about:blank\n  - <launched> pid=31415\n  - [pid=31415][err]\n  - [pid=31415][err] DevTools remote debugging requires a non-default data directory. Specify this using --user-data-dir.\n  - [pid=31415][err] [31415:260161:0714/133317.759923:ERROR:google_apis/gcm/engine/registration_request.cc:291] Registration response error message: DEPRECATED_ENDPOINT\n  - [pid=31415][err] WARNING: All log messages before absl::InitializeLog() is called are written to STDERR\n  - [pid=31415][err] I0000 00:00:1752492797.800836  260434 voice_transcription.cc:58] Registering VoiceTranscriptionCapability\n  - [pid=31415][err] Trying to load the allocator multiple times. This is *not* supported.\n  - [pid=31415][err] Created TensorFlow Lite XNNPACK delegate for CPU.\n  - [pid=31415][err] Attempting to use a delegate that only supports static-sized tensors with a graph that has dynamic-sized tensors (tensor#-1 is a dynamic-sized tensor).\n  - [pid=31415][err] [31415:260161:0714/133341.518174:ERROR:google_apis/gcm/engine/registration_request.cc:291] Registration response error message: DEPRECATED_ENDPOINT\n  - [pid=31415][err] [31415:260161:0714/133433.119885:ERROR:google_apis/gcm/engine/registration_request.cc:291] Registration response error message: DEPRECATED_ENDPOINT\n  - [pid=31415][err] [31415:260161:0714/133608.180097:ERROR:google_apis/gcm/engine/registration_request.cc:291] Registration response error message: QUOTA_EXCEEDED\n",
     "output_type": "error",
     "traceback": [
      "\u001b[31m---------------------------------------------------------------------------\u001b[39m",
      "\u001b[31mTimeoutError\u001b[39m                              Traceback (most recent call last)",
      "\u001b[36mCell\u001b[39m\u001b[36m \u001b[39m\u001b[32mIn[8]\u001b[39m\u001b[32m, line 2\u001b[39m\n\u001b[32m      1\u001b[39m \u001b[38;5;28;01masync\u001b[39;00m \u001b[38;5;28;01mwith\u001b[39;00m async_playwright() \u001b[38;5;28;01mas\u001b[39;00m p:\n\u001b[32m----> \u001b[39m\u001b[32m2\u001b[39m     browser = \u001b[38;5;28;01mawait\u001b[39;00m p.chromium.launch_persistent_context(\n\u001b[32m      3\u001b[39m                 channel=\u001b[33m\"\u001b[39m\u001b[33mchrome\u001b[39m\u001b[33m\"\u001b[39m,\n\u001b[32m      4\u001b[39m                 user_data_dir=MACOS_CHROME_USER_DATA_DIR,\n\u001b[32m      5\u001b[39m                 \u001b[38;5;66;03m# user_data_dir=\"\",\u001b[39;00m\n\u001b[32m      6\u001b[39m                 headless=\u001b[38;5;28;01mFalse\u001b[39;00m,\n\u001b[32m      7\u001b[39m                 args=[\n\u001b[32m      8\u001b[39m                     \u001b[33m\"\u001b[39m\u001b[33m--window-size=1280,800\u001b[39m\u001b[33m\"\u001b[39m,\n\u001b[32m      9\u001b[39m                     \u001b[33m\"\u001b[39m\u001b[33m--window-position=100,100\u001b[39m\u001b[33m\"\u001b[39m,\n\u001b[32m     10\u001b[39m                     \u001b[33m\"\u001b[39m\u001b[33m--no-first-run\u001b[39m\u001b[33m\"\u001b[39m,\n\u001b[32m     11\u001b[39m                     \u001b[33m\"\u001b[39m\u001b[33m--no-default-browser-check\u001b[39m\u001b[33m\"\u001b[39m,\n\u001b[32m     12\u001b[39m                     \u001b[33m\"\u001b[39m\u001b[33m--disable-infobars\u001b[39m\u001b[33m\"\u001b[39m,  \u001b[38;5;66;03m# 🛑 Used to work, now often ignored\u001b[39;00m\n\u001b[32m     13\u001b[39m                     \u001b[33m\"\u001b[39m\u001b[33m--disable-blink-features=AutomationControlled\u001b[39m\u001b[33m\"\u001b[39m,  \u001b[38;5;66;03m# ✅ Helps hide some automation signals\u001b[39;00m\n\u001b[32m     14\u001b[39m                 ],\n\u001b[32m     15\u001b[39m             )\n\u001b[32m     16\u001b[39m     context = browser\n\u001b[32m     18\u001b[39m     sleep(\u001b[32m1\u001b[39m)\n",
      "\u001b[36mFile \u001b[39m\u001b[32m~/miniconda3/envs/syftbox-mcp/lib/python3.12/site-packages/playwright/async_api/_generated.py:14727\u001b[39m, in \u001b[36mBrowserType.launch_persistent_context\u001b[39m\u001b[34m(self, user_data_dir, channel, executable_path, args, ignore_default_args, handle_sigint, handle_sigterm, handle_sighup, timeout, env, headless, devtools, proxy, downloads_path, slow_mo, viewport, screen, no_viewport, ignore_https_errors, java_script_enabled, bypass_csp, user_agent, locale, timezone_id, geolocation, permissions, extra_http_headers, offline, http_credentials, device_scale_factor, is_mobile, has_touch, color_scheme, reduced_motion, forced_colors, contrast, accept_downloads, traces_dir, chromium_sandbox, firefox_user_prefs, record_har_path, record_har_omit_content, record_video_dir, record_video_size, base_url, strict_selectors, service_workers, record_har_url_filter, record_har_mode, record_har_content, client_certificates)\u001b[39m\n\u001b[32m  14459\u001b[39m \u001b[38;5;28;01masync\u001b[39;00m \u001b[38;5;28;01mdef\u001b[39;00m\u001b[38;5;250m \u001b[39m\u001b[34mlaunch_persistent_context\u001b[39m(\n\u001b[32m  14460\u001b[39m     \u001b[38;5;28mself\u001b[39m,\n\u001b[32m  14461\u001b[39m     user_data_dir: typing.Union[\u001b[38;5;28mstr\u001b[39m, pathlib.Path],\n\u001b[32m   (...)\u001b[39m\u001b[32m  14522\u001b[39m     client_certificates: typing.Optional[typing.List[ClientCertificate]] = \u001b[38;5;28;01mNone\u001b[39;00m,\n\u001b[32m  14523\u001b[39m ) -> \u001b[33m\"\u001b[39m\u001b[33mBrowserContext\u001b[39m\u001b[33m\"\u001b[39m:\n\u001b[32m  14524\u001b[39m \u001b[38;5;250m    \u001b[39m\u001b[33;03m\"\"\"BrowserType.launch_persistent_context\u001b[39;00m\n\u001b[32m  14525\u001b[39m \n\u001b[32m  14526\u001b[39m \u001b[33;03m    Returns the persistent browser context instance.\u001b[39;00m\n\u001b[32m   (...)\u001b[39m\u001b[32m  14723\u001b[39m \u001b[33;03m    BrowserContext\u001b[39;00m\n\u001b[32m  14724\u001b[39m \u001b[33;03m    \"\"\"\u001b[39;00m\n\u001b[32m  14726\u001b[39m     \u001b[38;5;28;01mreturn\u001b[39;00m mapping.from_impl(\n\u001b[32m> \u001b[39m\u001b[32m14727\u001b[39m         \u001b[38;5;28;01mawait\u001b[39;00m \u001b[38;5;28mself\u001b[39m._impl_obj.launch_persistent_context(\n\u001b[32m  14728\u001b[39m             userDataDir=user_data_dir,\n\u001b[32m  14729\u001b[39m             channel=channel,\n\u001b[32m  14730\u001b[39m             executablePath=executable_path,\n\u001b[32m  14731\u001b[39m             args=mapping.to_impl(args),\n\u001b[32m  14732\u001b[39m             ignoreDefaultArgs=mapping.to_impl(ignore_default_args),\n\u001b[32m  14733\u001b[39m             handleSIGINT=handle_sigint,\n\u001b[32m  14734\u001b[39m             handleSIGTERM=handle_sigterm,\n\u001b[32m  14735\u001b[39m             handleSIGHUP=handle_sighup,\n\u001b[32m  14736\u001b[39m             timeout=timeout,\n\u001b[32m  14737\u001b[39m             env=mapping.to_impl(env),\n\u001b[32m  14738\u001b[39m             headless=headless,\n\u001b[32m  14739\u001b[39m             devtools=devtools,\n\u001b[32m  14740\u001b[39m             proxy=proxy,\n\u001b[32m  14741\u001b[39m             downloadsPath=downloads_path,\n\u001b[32m  14742\u001b[39m             slowMo=slow_mo,\n\u001b[32m  14743\u001b[39m             viewport=viewport,\n\u001b[32m  14744\u001b[39m             screen=screen,\n\u001b[32m  14745\u001b[39m             noViewport=no_viewport,\n\u001b[32m  14746\u001b[39m             ignoreHTTPSErrors=ignore_https_errors,\n\u001b[32m  14747\u001b[39m             javaScriptEnabled=java_script_enabled,\n\u001b[32m  14748\u001b[39m             bypassCSP=bypass_csp,\n\u001b[32m  14749\u001b[39m             userAgent=user_agent,\n\u001b[32m  14750\u001b[39m             locale=locale,\n\u001b[32m  14751\u001b[39m             timezoneId=timezone_id,\n\u001b[32m  14752\u001b[39m             geolocation=geolocation,\n\u001b[32m  14753\u001b[39m             permissions=mapping.to_impl(permissions),\n\u001b[32m  14754\u001b[39m             extraHTTPHeaders=mapping.to_impl(extra_http_headers),\n\u001b[32m  14755\u001b[39m             offline=offline,\n\u001b[32m  14756\u001b[39m             httpCredentials=http_credentials,\n\u001b[32m  14757\u001b[39m             deviceScaleFactor=device_scale_factor,\n\u001b[32m  14758\u001b[39m             isMobile=is_mobile,\n\u001b[32m  14759\u001b[39m             hasTouch=has_touch,\n\u001b[32m  14760\u001b[39m             colorScheme=color_scheme,\n\u001b[32m  14761\u001b[39m             reducedMotion=reduced_motion,\n\u001b[32m  14762\u001b[39m             forcedColors=forced_colors,\n\u001b[32m  14763\u001b[39m             contrast=contrast,\n\u001b[32m  14764\u001b[39m             acceptDownloads=accept_downloads,\n\u001b[32m  14765\u001b[39m             tracesDir=traces_dir,\n\u001b[32m  14766\u001b[39m             chromiumSandbox=chromium_sandbox,\n\u001b[32m  14767\u001b[39m             firefoxUserPrefs=mapping.to_impl(firefox_user_prefs),\n\u001b[32m  14768\u001b[39m             recordHarPath=record_har_path,\n\u001b[32m  14769\u001b[39m             recordHarOmitContent=record_har_omit_content,\n\u001b[32m  14770\u001b[39m             recordVideoDir=record_video_dir,\n\u001b[32m  14771\u001b[39m             recordVideoSize=record_video_size,\n\u001b[32m  14772\u001b[39m             baseURL=base_url,\n\u001b[32m  14773\u001b[39m             strictSelectors=strict_selectors,\n\u001b[32m  14774\u001b[39m             serviceWorkers=service_workers,\n\u001b[32m  14775\u001b[39m             recordHarUrlFilter=record_har_url_filter,\n\u001b[32m  14776\u001b[39m             recordHarMode=record_har_mode,\n\u001b[32m  14777\u001b[39m             recordHarContent=record_har_content,\n\u001b[32m  14778\u001b[39m             clientCertificates=client_certificates,\n\u001b[32m  14779\u001b[39m         )\n\u001b[32m  14780\u001b[39m     )\n",
      "\u001b[36mFile \u001b[39m\u001b[32m~/miniconda3/envs/syftbox-mcp/lib/python3.12/site-packages/playwright/_impl/_browser_type.py:166\u001b[39m, in \u001b[36mBrowserType.launch_persistent_context\u001b[39m\u001b[34m(self, userDataDir, channel, executablePath, args, ignoreDefaultArgs, handleSIGINT, handleSIGTERM, handleSIGHUP, timeout, env, headless, devtools, proxy, downloadsPath, slowMo, viewport, screen, noViewport, ignoreHTTPSErrors, javaScriptEnabled, bypassCSP, userAgent, locale, timezoneId, geolocation, permissions, extraHTTPHeaders, offline, httpCredentials, deviceScaleFactor, isMobile, hasTouch, colorScheme, reducedMotion, forcedColors, contrast, acceptDownloads, tracesDir, chromiumSandbox, firefoxUserPrefs, recordHarPath, recordHarOmitContent, recordVideoDir, recordVideoSize, baseURL, strictSelectors, serviceWorkers, recordHarUrlFilter, recordHarMode, recordHarContent, clientCertificates)\u001b[39m\n\u001b[32m    164\u001b[39m \u001b[38;5;28;01mawait\u001b[39;00m \u001b[38;5;28mself\u001b[39m._prepare_browser_context_params(params)\n\u001b[32m    165\u001b[39m normalize_launch_params(params)\n\u001b[32m--> \u001b[39m\u001b[32m166\u001b[39m result = \u001b[38;5;28;01mawait\u001b[39;00m \u001b[38;5;28mself\u001b[39m._channel.send_return_as_dict(\n\u001b[32m    167\u001b[39m     \u001b[33m\"\u001b[39m\u001b[33mlaunchPersistentContext\u001b[39m\u001b[33m\"\u001b[39m, TimeoutSettings.launch_timeout, params\n\u001b[32m    168\u001b[39m )\n\u001b[32m    169\u001b[39m browser = cast(\n\u001b[32m    170\u001b[39m     Browser,\n\u001b[32m    171\u001b[39m     from_channel(result[\u001b[33m\"\u001b[39m\u001b[33mbrowser\u001b[39m\u001b[33m\"\u001b[39m]),\n\u001b[32m    172\u001b[39m )\n\u001b[32m    173\u001b[39m browser._connect_to_browser_type(\n\u001b[32m    174\u001b[39m     \u001b[38;5;28mself\u001b[39m, \u001b[38;5;28mstr\u001b[39m(tracesDir) \u001b[38;5;28;01mif\u001b[39;00m tracesDir \u001b[38;5;129;01mis\u001b[39;00m \u001b[38;5;129;01mnot\u001b[39;00m \u001b[38;5;28;01mNone\u001b[39;00m \u001b[38;5;28;01melse\u001b[39;00m \u001b[38;5;28;01mNone\u001b[39;00m\n\u001b[32m    175\u001b[39m )\n",
      "\u001b[36mFile \u001b[39m\u001b[32m~/miniconda3/envs/syftbox-mcp/lib/python3.12/site-packages/playwright/_impl/_connection.py:83\u001b[39m, in \u001b[36mChannel.send_return_as_dict\u001b[39m\u001b[34m(self, method, timeout_calculator, params, is_internal, title)\u001b[39m\n\u001b[32m     75\u001b[39m \u001b[38;5;28;01masync\u001b[39;00m \u001b[38;5;28;01mdef\u001b[39;00m\u001b[38;5;250m \u001b[39m\u001b[34msend_return_as_dict\u001b[39m(\n\u001b[32m     76\u001b[39m     \u001b[38;5;28mself\u001b[39m,\n\u001b[32m     77\u001b[39m     method: \u001b[38;5;28mstr\u001b[39m,\n\u001b[32m   (...)\u001b[39m\u001b[32m     81\u001b[39m     title: \u001b[38;5;28mstr\u001b[39m = \u001b[38;5;28;01mNone\u001b[39;00m,\n\u001b[32m     82\u001b[39m ) -> Any:\n\u001b[32m---> \u001b[39m\u001b[32m83\u001b[39m     \u001b[38;5;28;01mreturn\u001b[39;00m \u001b[38;5;28;01mawait\u001b[39;00m \u001b[38;5;28mself\u001b[39m._connection.wrap_api_call(\n\u001b[32m     84\u001b[39m         \u001b[38;5;28;01mlambda\u001b[39;00m: \u001b[38;5;28mself\u001b[39m._inner_send(method, timeout_calculator, params, \u001b[38;5;28;01mTrue\u001b[39;00m),\n\u001b[32m     85\u001b[39m         is_internal,\n\u001b[32m     86\u001b[39m         title,\n\u001b[32m     87\u001b[39m     )\n",
      "\u001b[36mFile \u001b[39m\u001b[32m~/miniconda3/envs/syftbox-mcp/lib/python3.12/site-packages/playwright/_impl/_connection.py:558\u001b[39m, in \u001b[36mConnection.wrap_api_call\u001b[39m\u001b[34m(self, cb, is_internal, title)\u001b[39m\n\u001b[32m    556\u001b[39m     \u001b[38;5;28;01mreturn\u001b[39;00m \u001b[38;5;28;01mawait\u001b[39;00m cb()\n\u001b[32m    557\u001b[39m \u001b[38;5;28;01mexcept\u001b[39;00m \u001b[38;5;167;01mException\u001b[39;00m \u001b[38;5;28;01mas\u001b[39;00m error:\n\u001b[32m--> \u001b[39m\u001b[32m558\u001b[39m     \u001b[38;5;28;01mraise\u001b[39;00m rewrite_error(error, \u001b[33mf\u001b[39m\u001b[33m\"\u001b[39m\u001b[38;5;132;01m{\u001b[39;00mparsed_st[\u001b[33m'\u001b[39m\u001b[33mapiName\u001b[39m\u001b[33m'\u001b[39m]\u001b[38;5;132;01m}\u001b[39;00m\u001b[33m: \u001b[39m\u001b[38;5;132;01m{\u001b[39;00merror\u001b[38;5;132;01m}\u001b[39;00m\u001b[33m\"\u001b[39m) \u001b[38;5;28;01mfrom\u001b[39;00m\u001b[38;5;250m \u001b[39m\u001b[38;5;28;01mNone\u001b[39;00m\n\u001b[32m    559\u001b[39m \u001b[38;5;28;01mfinally\u001b[39;00m:\n\u001b[32m    560\u001b[39m     \u001b[38;5;28mself\u001b[39m._api_zone.set(\u001b[38;5;28;01mNone\u001b[39;00m)\n",
      "\u001b[31mTimeoutError\u001b[39m: BrowserType.launch_persistent_context: Timeout 180000ms exceeded.\nCall log:\n  - <launching> /Applications/Google Chrome.app/Contents/MacOS/Google Chrome --disable-field-trial-config --disable-background-networking --disable-background-timer-throttling --disable-backgrounding-occluded-windows --disable-back-forward-cache --disable-breakpad --disable-client-side-phishing-detection --disable-component-extensions-with-background-pages --disable-component-update --no-default-browser-check --disable-default-apps --disable-dev-shm-usage --disable-extensions --disable-features=AcceptCHFrame,AutoExpandDetailsElement,AvoidUnnecessaryBeforeUnloadCheckSync,CertificateTransparencyComponentUpdater,DestroyProfileOnBrowserClose,DialMediaRouteProvider,ExtensionManifestV2Disabled,GlobalMediaControls,HttpsUpgrades,ImprovedCookieControls,LazyFrameLoading,LensOverlay,MediaRouter,PaintHolding,ThirdPartyStoragePartitioning,Translate --allow-pre-commit-input --disable-hang-monitor --disable-ipc-flooding-protection --disable-popup-blocking --disable-prompt-on-repost --disable-renderer-backgrounding --force-color-profile=srgb --metrics-recording-only --no-first-run --password-store=basic --use-mock-keychain --no-service-autorun --export-tagged-pdf --disable-search-engine-choice-screen --unsafely-disable-devtools-self-xss-warnings --enable-automation --enable-use-zoom-for-dsf=false --no-sandbox --window-size=1280,800 --window-position=100,100 --no-first-run --no-default-browser-check --disable-infobars --disable-blink-features=AutomationControlled --user-data-dir=/Users/koen/Library/Application Support/Google/Chrome --remote-debugging-pipe about:blank\n  - <launched> pid=31415\n  - [pid=31415][err]\n  - [pid=31415][err] DevTools remote debugging requires a non-default data directory. Specify this using --user-data-dir.\n  - [pid=31415][err] [31415:260161:0714/133317.759923:ERROR:google_apis/gcm/engine/registration_request.cc:291] Registration response error message: DEPRECATED_ENDPOINT\n  - [pid=31415][err] WARNING: All log messages before absl::InitializeLog() is called are written to STDERR\n  - [pid=31415][err] I0000 00:00:1752492797.800836  260434 voice_transcription.cc:58] Registering VoiceTranscriptionCapability\n  - [pid=31415][err] Trying to load the allocator multiple times. This is *not* supported.\n  - [pid=31415][err] Created TensorFlow Lite XNNPACK delegate for CPU.\n  - [pid=31415][err] Attempting to use a delegate that only supports static-sized tensors with a graph that has dynamic-sized tensors (tensor#-1 is a dynamic-sized tensor).\n  - [pid=31415][err] [31415:260161:0714/133341.518174:ERROR:google_apis/gcm/engine/registration_request.cc:291] Registration response error message: DEPRECATED_ENDPOINT\n  - [pid=31415][err] [31415:260161:0714/133433.119885:ERROR:google_apis/gcm/engine/registration_request.cc:291] Registration response error message: DEPRECATED_ENDPOINT\n  - [pid=31415][err] [31415:260161:0714/133608.180097:ERROR:google_apis/gcm/engine/registration_request.cc:291] Registration response error message: QUOTA_EXCEEDED\n"
     ]
    }
   ],
   "source": [
    "async with async_playwright() as p:\n",
    "    browser = await p.chromium.launch_persistent_context(\n",
    "                channel=\"chrome\",\n",
    "                user_data_dir=MACOS_CHROME_USER_DATA_DIR,\n",
    "                # user_data_dir=\"\",\n",
    "                headless=False,\n",
    "                args=[\n",
    "                    \"--window-size=1280,800\",\n",
    "                    \"--window-position=100,100\",\n",
    "                    \"--no-first-run\",\n",
    "                    \"--no-default-browser-check\",\n",
    "                    \"--disable-infobars\",  # 🛑 Used to work, now often ignored\n",
    "                    \"--disable-blink-features=AutomationControlled\",  # ✅ Helps hide some automation signals\n",
    "                ],\n",
    "            )\n",
    "    context = browser\n",
    "    \n",
    "    sleep(1)\n",
    "    page = await context.new_page()\n",
    "    \n",
    "    workspace_url = f\"https://openmined.slack.com\"\n",
    "    print(f\"Opening browser to: {workspace_url}\")\n",
    "    await page.goto(workspace_url)\n",
    "    sleep(10)\n"
   ]
  },
  {
   "cell_type": "code",
   "execution_count": null,
   "id": "b8ea5207",
   "metadata": {},
   "outputs": [
    {
     "ename": "AttributeError",
     "evalue": "module 'playwright' has no attribute 'chromium'",
     "output_type": "error",
     "traceback": [
      "\u001b[31m---------------------------------------------------------------------------\u001b[39m",
      "\u001b[31mAttributeError\u001b[39m                            Traceback (most recent call last)",
      "\u001b[36mCell\u001b[39m\u001b[36m \u001b[39m\u001b[32mIn[4]\u001b[39m\u001b[32m, line 1\u001b[39m\n\u001b[32m----> \u001b[39m\u001b[32m1\u001b[39m browser = \u001b[38;5;28;01mawait\u001b[39;00m \u001b[43mplaywright\u001b[49m\u001b[43m.\u001b[49m\u001b[43mchromium\u001b[49m.launch_persistent_context(\n\u001b[32m      2\u001b[39m                 channel=\u001b[33m\"\u001b[39m\u001b[33mchrome\u001b[39m\u001b[33m\"\u001b[39m,\n\u001b[32m      3\u001b[39m                 user_data_dir=\u001b[33m\"\u001b[39m\u001b[33m/tmp/abc\u001b[39m\u001b[33m\"\u001b[39m,\n\u001b[32m      4\u001b[39m                 args=[\n\u001b[32m      5\u001b[39m                     \u001b[33m\"\u001b[39m\u001b[33m--window-size=1280,800\u001b[39m\u001b[33m\"\u001b[39m,\n\u001b[32m      6\u001b[39m                     \u001b[33m\"\u001b[39m\u001b[33m--window-position=100,100\u001b[39m\u001b[33m\"\u001b[39m,\n\u001b[32m      7\u001b[39m                     \u001b[33m\"\u001b[39m\u001b[33m--no-first-run\u001b[39m\u001b[33m\"\u001b[39m,\n\u001b[32m      8\u001b[39m                     \u001b[33m\"\u001b[39m\u001b[33m--no-default-browser-check\u001b[39m\u001b[33m\"\u001b[39m,\n\u001b[32m      9\u001b[39m                 ],\n\u001b[32m     10\u001b[39m             )\n",
      "\u001b[31mAttributeError\u001b[39m: module 'playwright' has no attribute 'chromium'"
     ]
    }
   ],
   "source": []
  },
  {
   "cell_type": "code",
   "execution_count": null,
   "id": "7c7374d2",
   "metadata": {},
   "outputs": [],
   "source": []
  }
 ],
 "metadata": {
  "kernelspec": {
   "display_name": "Python 3 (ipykernel)",
   "language": "python",
   "name": "python3"
  },
  "language_info": {
   "codemirror_mode": {
    "name": "ipython",
    "version": 3
   },
   "file_extension": ".py",
   "mimetype": "text/x-python",
   "name": "python",
   "nbconvert_exporter": "python",
   "pygments_lexer": "ipython3",
   "version": "3.12.11"
  }
 },
 "nbformat": 4,
 "nbformat_minor": 5
}
