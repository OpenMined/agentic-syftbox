{
 "cells": [
  {
   "cell_type": "code",
   "execution_count": 2,
   "metadata": {},
   "outputs": [],
   "source": [
    "# !pip install slack_sdk"
   ]
  },
  {
   "cell_type": "code",
   "execution_count": 3,
   "metadata": {},
   "outputs": [],
   "source": [
    "import os\n",
    "from slack_sdk import WebClient\n",
    "\n",
    "token = os.getenv(\"SLACK_TOKEN\")\n",
    "d_cookie = os.getenv(\"SLACK_D_COOKIE\")"
   ]
  },
  {
   "cell_type": "code",
   "execution_count": 4,
   "metadata": {},
   "outputs": [],
   "source": [
    "headers = {\n",
    "    'Cookie': f'd={d_cookie}',\n",
    "    'User-Agent': 'Mozilla/5.0 (compatible; Python)'\n",
    "}   \n",
    "client = WebClient(token=token,headers=headers)\n",
    "\n",
    "\n"
   ]
  },
  {
   "cell_type": "code",
   "execution_count": 5,
   "metadata": {},
   "outputs": [
    {
     "name": "stdout",
     "output_type": "stream",
     "text": [
      "{'ok': True, 'channel': 'D7GH378QG', 'ts': '1751367755.953069', 'message': {'user': 'U7GH375CG', 'type': 'message', 'ts': '1751367755.953069', 'text': 'test message from python slack bot', 'team': 'T6963A864', 'blocks': [{'type': 'rich_text', 'block_id': 'Zw23', 'elements': [{'type': 'rich_text_section', 'elements': [{'type': 'text', 'text': 'test message from python slack bot'}]}]}]}}\n"
     ]
    }
   ],
   "source": [
    "response = client.chat_postMessage(\n",
    "    channel=\"D7GH378QG\",\n",
    "    text=\"test message from python slack bot\"\n",
    ")\n",
    "print(response)\n"
   ]
  },
  {
   "cell_type": "code",
   "execution_count": 30,
   "metadata": {},
   "outputs": [],
   "source": [
    "response = client.conversations_list(types=\"im\")\n"
   ]
  },
  {
   "cell_type": "code",
   "execution_count": 6,
   "metadata": {},
   "outputs": [
    {
     "name": "stdout",
     "output_type": "stream",
     "text": [
      "[{'user': 'U7GH375CG', 'type': 'message', 'ts': '1751355107.520019', 'client_msg_id': 'c30e78c0-a070-46f1-89f7-c2b613c0e1c6', 'text': 'maybe I am missing something', 'team': 'T6963A864', 'blocks': [{'type': 'rich_text', 'block_id': 'ozlFz', 'elements': [{'type': 'rich_text_section', 'elements': [{'type': 'text', 'text': 'maybe I am missing something'}]}]}]}, {'user': 'U7GH375CG', 'type': 'message', 'ts': '1751355104.023589', 'edited': {'user': 'U7GH375CG', 'ts': '1751367845.000000'}, 'client_msg_id': 'e0c5ab0f-2556-4605-b224-9ca7d9814954', 'text': 'yes its so pretty obvious, really dont know why no one created it', 'team': 'T6963A864', 'blocks': [{'type': 'rich_text', 'block_id': 'OyGl1', 'elements': [{'type': 'rich_text_section', 'elements': [{'type': 'text', 'text': 'yes its so pretty obvious, really dont know why no one created it'}]}]}]}, {'user': 'UQCEALEPP', 'type': 'message', 'ts': '1751321409.319429', 'client_msg_id': '7926551b-2cdb-4d04-a278-a0a5d8f184a6', 'text': 'Awesome, I also want my slack dumped.\\n\\nWhat I realised the other day is I literally cannot stand how bad slack is for finding things, the search just doesnt work.... its useless... slack is where information goes to die.\\n\\nWe need to liberate the contents of slack', 'team': 'T6963A864', 'blocks': [{'type': 'rich_text', 'block_id': 'F3vcT', 'elements': [{'type': 'rich_text_section', 'elements': [{'type': 'text', 'text': 'Awesome, I also want my slack dumped.\\n\\nWhat I realised the other day is I literally cannot stand how bad slack is for finding things, the search just doesnt work.... its useless... slack is where information goes to die.\\n\\nWe need to liberate the contents of slack'}]}]}]}]\n"
     ]
    }
   ],
   "source": [
    "response = client.conversations_history(channel=\"D01LM1NMJ0J\", limit=3)\n",
    "print(response[\"messages\"])\n"
   ]
  },
  {
   "cell_type": "code",
   "execution_count": 11,
   "metadata": {},
   "outputs": [
    {
     "name": "stdout",
     "output_type": "stream",
     "text": [
      "[{'text': 'maybe I am missing something',\n",
      "  'ts': '1751355107.520019',\n",
      "  'user': \"Madhava (we're hiring)\"},\n",
      " {'text': 'yes its so pretty obvious, really dont know why no one created it',\n",
      "  'ts': '1751355104.023589',\n",
      "  'user': \"Madhava (we're hiring)\"},\n",
      " {'text': 'Awesome, I also want my slack dumped.\\n'\n",
      "          '\\n'\n",
      "          'What I realised the other day is I literally cannot stand how bad '\n",
      "          'slack is for finding things, the search just doesnt work.... its '\n",
      "          'useless... slack is where information goes to die.\\n'\n",
      "          '\\n'\n",
      "          'We need to liberate the contents of slack',\n",
      "  'ts': '1751321409.319429',\n",
      "  'user': \"Madhava (we're hiring)\"}]\n"
     ]
    }
   ],
   "source": [
    "from pprint import pprint\n",
    "\n",
    "res = []\n",
    "for message in response[\"messages\"]:\n",
    "    res.append({\n",
    "        \"text\": message[\"text\"],\n",
    "        \"user\": \"Madhava (we're hiring)\",\n",
    "        \"ts\": message[\"ts\"],\n",
    "    })\n",
    "\n",
    "pprint(res)"
   ]
  },
  {
   "cell_type": "code",
   "execution_count": 32,
   "metadata": {},
   "outputs": [
    {
     "data": {
      "text/plain": [
       "[{'id': 'D092N6XEF9R',\n",
       "  'created': 1750783683,\n",
       "  'is_frozen': False,\n",
       "  'is_archived': False,\n",
       "  'is_im': True,\n",
       "  'is_org_shared': False,\n",
       "  'context_team_id': 'T6963A864',\n",
       "  'updated': 1750783683329,\n",
       "  'user': 'U092JD5JMTM',\n",
       "  'is_user_deleted': False,\n",
       "  'priority': 0.0064307795168676},\n",
       " {'id': 'D08RZD218DQ',\n",
       "  'created': 1747038537,\n",
       "  'is_frozen': False,\n",
       "  'is_archived': False,\n",
       "  'is_im': True,\n",
       "  'is_org_shared': False,\n",
       "  'context_team_id': 'T6963A864',\n",
       "  'updated': 1749770065334,\n",
       "  'user': 'U01H5CSTS7N',\n",
       "  'is_user_deleted': False,\n",
       "  'priority': 0},\n",
       " {'id': 'D08R34SB6KD',\n",
       "  'created': 1746477774,\n",
       "  'is_frozen': False,\n",
       "  'is_archived': False,\n",
       "  'is_im': True,\n",
       "  'is_org_shared': False,\n",
       "  'context_team_id': 'T6963A864',\n",
       "  'updated': 1746477774521,\n",
       "  'user': 'U7BJJ9GLC',\n",
       "  'is_user_deleted': False,\n",
       "  'priority': 0}]"
      ]
     },
     "execution_count": 32,
     "metadata": {},
     "output_type": "execute_result"
    }
   ],
   "source": [
    "response[\"channels\"][:3]"
   ]
  },
  {
   "cell_type": "code",
   "execution_count": null,
   "metadata": {},
   "outputs": [],
   "source": []
  }
 ],
 "metadata": {
  "kernelspec": {
   "display_name": "Python 3 (ipykernel)",
   "language": "python",
   "name": "python3"
  },
  "language_info": {
   "codemirror_mode": {
    "name": "ipython",
    "version": 3
   },
   "file_extension": ".py",
   "mimetype": "text/x-python",
   "name": "python",
   "nbconvert_exporter": "python",
   "pygments_lexer": "ipython3",
   "version": "3.12.11"
  }
 },
 "nbformat": 4,
 "nbformat_minor": 2
}
