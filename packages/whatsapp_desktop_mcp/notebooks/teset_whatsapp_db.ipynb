{
 "cells": [
  {
   "cell_type": "code",
   "execution_count": 2,
   "id": "a76aae3b",
   "metadata": {},
   "outputs": [],
   "source": [
    "from pathlib import Path\n",
    "import sqlite3"
   ]
  },
  {
   "cell_type": "code",
   "execution_count": 3,
   "id": "41c29578",
   "metadata": {},
   "outputs": [],
   "source": [
    "\n",
    "SQLITE_DB_PATH = Path(\"~/Library/Group Containers/group.net.whatsapp.WhatsApp.shared/ChatStorage.sqlite\").expanduser()\n",
    "db = sqlite3.connect(str(SQLITE_DB_PATH))\n"
   ]
  },
  {
   "cell_type": "code",
   "execution_count": 122,
   "id": "b33bf35b",
   "metadata": {},
   "outputs": [],
   "source": [
    "contact_id = '31638200922@s.whatsapp.net'"
   ]
  },
  {
   "cell_type": "code",
   "execution_count": null,
   "id": "084cd435",
   "metadata": {},
   "outputs": [
    {
     "name": "stdout",
     "output_type": "stream",
     "text": [
      "=== Chat: Pim ===\n",
      "# Pim Bleichrodt (773341391): https://www.airbnb.com/l/zgxmsmKj\n",
      "# Pim Bleichrodt (770199068): Aankomende dagen beetje vol eigenlijk\n",
      "# Pim Bleichrodt (770199060): Yo man\n",
      "# Pim Bleichrodt (768478868): Dankjewel maat ❤️\n",
      "# Pim Bleichrodt (768396995): Thanks man. Vreselijk ja... Het is nu wachten tot hij gaat. Zuurstof is er ook af\n",
      "# Pim Bleichrodt (758623900): Ja inderdaad 😂 dat kan zeker weer\n",
      "# Pim Bleichrodt (758384564): Ja mijn rug is nu 4 weken geleden geopereerd en kan nu langzaam steeds wat meer\n",
      "# Pim Bleichrodt (758370351): Hee vriend! Hoe is het in Amsterdam\n",
      "# Pim Bleichrodt (755195115): Ff appen als je er bent!\n",
      "# Pim Bleichrodt (749484680): Thanks 🙏🏼\n",
      "# Pim Bleichrodt (749477578): Yo Koen wat is je adres?\n",
      "# Pim Bleichrodt (748505439): Thanks vriend\n"
     ]
    }
   ],
   "source": [
    "\n",
    "        \n",
    "get_message_by_contact_id(\"31623253111@s.whatsapp.net\")"
   ]
  },
  {
   "cell_type": "code",
   "execution_count": null,
   "id": "1b3c1168",
   "metadata": {},
   "outputs": [],
   "source": []
  },
  {
   "cell_type": "code",
   "execution_count": null,
   "id": "161171c7",
   "metadata": {},
   "outputs": [],
   "source": []
  },
  {
   "cell_type": "code",
   "execution_count": null,
   "id": "1e291238",
   "metadata": {},
   "outputs": [],
   "source": []
  },
  {
   "cell_type": "code",
   "execution_count": null,
   "id": "cf2a765b",
   "metadata": {},
   "outputs": [],
   "source": []
  },
  {
   "cell_type": "code",
   "execution_count": null,
   "id": "21ae6d8e",
   "metadata": {},
   "outputs": [],
   "source": []
  },
  {
   "cell_type": "code",
   "execution_count": 107,
   "id": "d2bc4685",
   "metadata": {},
   "outputs": [],
   "source": [
    "\n",
    "# from collections import defaultdict\n",
    "\n",
    "# channels = defaultdict(list)\n",
    "# for channel_name, message_text, message_date in results:\n",
    "#     channels[channel_name].append({\n",
    "#         \"message_text\": message_text,\n",
    "#         \"message_date\": message_date,\n",
    "#     })\n",
    "\n",
    "# for channel, messages in channels.items():\n",
    "#     if not messages:\n",
    "#         continue\n",
    "    \n",
    "#     print(f\"Channel: {channel}\")\n",
    "#     for msg in messages:\n",
    "#         print(f\"  [{msg['message_date']}] {msg['message_text']}\")\n",
    "#     print(\"-\" * 40)\n"
   ]
  },
  {
   "cell_type": "code",
   "execution_count": null,
   "id": "684741bd",
   "metadata": {},
   "outputs": [],
   "source": []
  },
  {
   "cell_type": "code",
   "execution_count": null,
   "id": "be50b028",
   "metadata": {},
   "outputs": [],
   "source": []
  },
  {
   "cell_type": "code",
   "execution_count": 108,
   "id": "96af2e9f",
   "metadata": {},
   "outputs": [],
   "source": [
    "# cursor = db.cursor()\n",
    "# cursor.execute(\"SELECT name FROM sqlite_master WHERE type='table';\")\n",
    "# tables = cursor.fetchall()\n",
    "# for table_name_tuple in tables:\n",
    "#     table_name = table_name_tuple[0]\n",
    "#     print(f\"Table: {table_name}\")\n",
    "#     cursor.execute(f\"PRAGMA table_info('{table_name}');\")\n",
    "#     columns = cursor.fetchall()\n",
    "#     print(\"Columns:\")\n",
    "#     for col in columns:\n",
    "#         print(f\"  {col[1]} ({col[2]})\")\n",
    "#     print(\"-\" * 40)\n"
   ]
  },
  {
   "cell_type": "code",
   "execution_count": null,
   "id": "f094d9e2",
   "metadata": {},
   "outputs": [],
   "source": []
  }
 ],
 "metadata": {
  "kernelspec": {
   "display_name": "Python 3 (ipykernel)",
   "language": "python",
   "name": "python3"
  },
  "language_info": {
   "codemirror_mode": {
    "name": "ipython",
    "version": 3
   },
   "file_extension": ".py",
   "mimetype": "text/x-python",
   "name": "python",
   "nbconvert_exporter": "python",
   "pygments_lexer": "ipython3",
   "version": "3.12.11"
  }
 },
 "nbformat": 4,
 "nbformat_minor": 5
}
