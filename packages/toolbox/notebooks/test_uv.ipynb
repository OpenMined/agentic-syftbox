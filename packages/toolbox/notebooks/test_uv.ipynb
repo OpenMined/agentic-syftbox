{
 "cells": [
  {
   "cell_type": "code",
   "execution_count": 31,
   "id": "c6425e14",
   "metadata": {},
   "outputs": [],
   "source": [
    "import os, subprocess"
   ]
  },
  {
   "cell_type": "code",
   "execution_count": null,
   "id": "787be43e",
   "metadata": {},
   "outputs": [],
   "source": []
  },
  {
   "cell_type": "code",
   "execution_count": null,
   "id": "c4659dcb",
   "metadata": {},
   "outputs": [],
   "source": [
    "from pathlib import Path\n",
    "\n",
    "\n",
    "\n",
    "uv_path = find_uv_path()\n"
   ]
  },
  {
   "cell_type": "code",
   "execution_count": 54,
   "id": "820db18b",
   "metadata": {},
   "outputs": [
    {
     "data": {
      "text/plain": [
       "PosixPath('/Users/koen/.local/bin/uv')"
      ]
     },
     "execution_count": 54,
     "metadata": {},
     "output_type": "execute_result"
    }
   ],
   "source": [
    "uv_path"
   ]
  },
  {
   "cell_type": "code",
   "execution_count": 50,
   "id": "40dea818",
   "metadata": {},
   "outputs": [
    {
     "data": {
      "text/plain": [
       "'/Users/koen/.local/bin:/Users/koen/.local/bin:/Users/koen/.local/bin:/Users/koen/.local/bin:/Users/koen/.local/bin:/Users/koen/.bun/bin:/Users/koen/.local/bin:/Users/koen/miniconda3/envs/syftbox-mcp/bin:/Users/koen/miniconda3/condabin:/Users/koen/Downloads/google-cloud-sdk/bin:/Users/koen/.nvm/versions/node/v18.18.0/bin:/Users/koen/.poetry/bin:/Users/koen/.cargo/bin:/usr/local/bin:/System/Cryptexes/App/usr/bin:/usr/bin:/bin:/usr/sbin:/sbin:/var/run/com.apple.security.cryptexd/codex.system/bootstrap/usr/local/bin:/var/run/com.apple.security.cryptexd/codex.system/bootstrap/usr/bin:/var/run/com.apple.security.cryptexd/codex.system/bootstrap/usr/appleinternal/bin:/Library/Apple/usr/bin:/usr/local/go/bin:/Users/koen/.cargo/bin:~/Downloads/terraform'"
      ]
     },
     "execution_count": 50,
     "metadata": {},
     "output_type": "execute_result"
    }
   ],
   "source": [
    "os.environ[\"PATH\"]"
   ]
  },
  {
   "cell_type": "code",
   "execution_count": null,
   "id": "ee7c0063",
   "metadata": {},
   "outputs": [],
   "source": [
    "\n",
    "SHELL = os.environ.get(\"SHELL\", \"/bin/sh\")\n",
    "SHELL = \"/bin/zsh\"\n",
    "cmd = f'{SHELL} -c \"which uv && nohup uv --help > test.out 2>&1 && sleep 2 && cat test.out\"'\n",
    "# cmd = f'uv --help'\n",
    "\n",
    "\n",
    "use_shell = True\n",
    "proc = subprocess.Popen(\n",
    "    cmd,\n",
    "    shell=use_shell,\n",
    "    cwd=\"/Users/koen/.toolbox/installed/syftbox-queryengine-mcp\",\n",
    "    text=True,\n",
    "    executable=SHELL,\n",
    "    stdout=subprocess.PIPE,\n",
    "    stderr=subprocess.PIPE\n",
    ")\n",
    "status_code = proc.wait(timeout=3)\n",
    "# stdout, stderr = proc.communicate(timeout=10)\n",
    "# print((stdout, stderr))\n"
   ]
  },
  {
   "cell_type": "code",
   "execution_count": 74,
   "id": "c2ed81a4",
   "metadata": {},
   "outputs": [
    {
     "data": {
      "text/plain": [
       "0"
      ]
     },
     "execution_count": 74,
     "metadata": {},
     "output_type": "execute_result"
    }
   ],
   "source": [
    "status_code"
   ]
  },
  {
   "cell_type": "code",
   "execution_count": null,
   "id": "dc226fbc",
   "metadata": {},
   "outputs": [],
   "source": []
  }
 ],
 "metadata": {
  "kernelspec": {
   "display_name": "Python 3 (ipykernel)",
   "language": "python",
   "name": "python3"
  },
  "language_info": {
   "codemirror_mode": {
    "name": "ipython",
    "version": 3
   },
   "file_extension": ".py",
   "mimetype": "text/x-python",
   "name": "python",
   "nbconvert_exporter": "python",
   "pygments_lexer": "ipython3",
   "version": "3.12.11"
  }
 },
 "nbformat": 4,
 "nbformat_minor": 5
}
