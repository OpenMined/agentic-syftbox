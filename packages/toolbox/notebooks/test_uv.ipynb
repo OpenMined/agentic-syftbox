{
 "cells": [
  {
   "cell_type": "code",
   "execution_count": 1,
   "id": "c6425e14",
   "metadata": {},
   "outputs": [],
   "source": [
    "import os, subprocess"
   ]
  },
  {
   "cell_type": "code",
   "execution_count": null,
   "id": "787be43e",
   "metadata": {},
   "outputs": [],
   "source": []
  },
  {
   "cell_type": "code",
   "execution_count": 2,
   "id": "c4659dcb",
   "metadata": {},
   "outputs": [],
   "source": [
    "from pathlib import Path\n",
    "\n",
    "\n",
    "\n",
    "# uv_path = find_uv_path()\n"
   ]
  },
  {
   "cell_type": "code",
   "execution_count": 3,
   "id": "820db18b",
   "metadata": {},
   "outputs": [],
   "source": [
    "# uv_path"
   ]
  },
  {
   "cell_type": "code",
   "execution_count": 4,
   "id": "40dea818",
   "metadata": {},
   "outputs": [
    {
     "data": {
      "text/plain": [
       "'/Users/koen/.local/bin:/Users/koen/.local/bin:/Users/koen/.local/bin:/Users/koen/.local/bin:/Users/koen/.local/bin:/Users/koen/.bun/bin:/Users/koen/.local/bin:/Users/koen/miniconda3/envs/syftbox-mcp/bin:/Users/koen/miniconda3/condabin:/Users/koen/Downloads/google-cloud-sdk/bin:/Users/koen/.nvm/versions/node/v18.18.0/bin:/Users/koen/.poetry/bin:/Users/koen/.cargo/bin:/usr/local/bin:/System/Cryptexes/App/usr/bin:/usr/bin:/bin:/usr/sbin:/sbin:/var/run/com.apple.security.cryptexd/codex.system/bootstrap/usr/local/bin:/var/run/com.apple.security.cryptexd/codex.system/bootstrap/usr/bin:/var/run/com.apple.security.cryptexd/codex.system/bootstrap/usr/appleinternal/bin:/Library/Apple/usr/bin:/usr/local/go/bin:/Users/koen/.cargo/bin:~/Downloads/terraform'"
      ]
     },
     "execution_count": 4,
     "metadata": {},
     "output_type": "execute_result"
    }
   ],
   "source": [
    "os.environ[\"PATH\"]"
   ]
  },
  {
   "cell_type": "code",
   "execution_count": 7,
   "id": "ee7c0063",
   "metadata": {},
   "outputs": [
    {
     "name": "stdout",
     "output_type": "stream",
     "text": [
      "/Users/koen/.local/bin/uv\n",
      "An extremely fast Python package manager.\n",
      "\n",
      "\u001b[1m\u001b[32mUsage:\u001b[0m \u001b[1m\u001b[36muv\u001b[0m \u001b[36m[OPTIONS]\u001b[0m \u001b[36m<COMMAND>\u001b[0m\n",
      "\n",
      "\u001b[1m\u001b[32mCommands:\u001b[0m\n",
      "  \u001b[1m\u001b[36mrun\u001b[0m      Run a command or script\n",
      "  \u001b[1m\u001b[36minit\u001b[0m     Create a new project\n",
      "  \u001b[1m\u001b[36madd\u001b[0m      Add dependencies to the project\n",
      "  \u001b[1m\u001b[36mremove\u001b[0m   Remove dependencies from the project\n",
      "  \u001b[1m\u001b[36mversion\u001b[0m  Read or update the project's version\n",
      "  \u001b[1m\u001b[36msync\u001b[0m     Update the project's environment\n",
      "  \u001b[1m\u001b[36mlock\u001b[0m     Update the project's lockfile\n",
      "  \u001b[1m\u001b[36mexport\u001b[0m   Export the project's lockfile to an alternate format\n",
      "  \u001b[1m\u001b[36mtree\u001b[0m     Display the project's dependency tree\n",
      "  \u001b[1m\u001b[36mtool\u001b[0m     Run and install commands provided by Python packages\n",
      "  \u001b[1m\u001b[36mpython\u001b[0m   Manage Python versions and installations\n",
      "  \u001b[1m\u001b[36mpip\u001b[0m      Manage Python packages with a pip-compatible interface\n",
      "  \u001b[1m\u001b[36mvenv\u001b[0m     Create a virtual environment\n",
      "  \u001b[1m\u001b[36mbuild\u001b[0m    Build Python packages into source distributions and wheels\n",
      "  \u001b[1m\u001b[36mpublish\u001b[0m  Upload distributions to an index\n",
      "  \u001b[1m\u001b[36mcache\u001b[0m    Manage uv's cache\n",
      "  \u001b[1m\u001b[36mself\u001b[0m     Manage the uv executable\n",
      "  \u001b[1m\u001b[36mhelp\u001b[0m     Display documentation for a command\n",
      "\n",
      "\u001b[1m\u001b[32mCache options:\u001b[0m\n",
      "  \u001b[1m\u001b[36m-n\u001b[0m, \u001b[1m\u001b[36m--no-cache\u001b[0m               Avoid reading from or writing to the cache, instead using a temporary\n",
      "                               directory for the duration of the operation [env: UV_NO_CACHE=]\n",
      "      \u001b[1m\u001b[36m--cache-dir\u001b[0m\u001b[36m \u001b[0m\u001b[36m<CACHE_DIR>\u001b[0m  Path to the cache directory [env: UV_CACHE_DIR=]\n",
      "\n",
      "\u001b[1m\u001b[32mPython options:\u001b[0m\n",
      "      \u001b[1m\u001b[36m--managed-python\u001b[0m       Require use of uv-managed Python versions [env: UV_MANAGED_PYTHON=]\n",
      "      \u001b[1m\u001b[36m--no-managed-python\u001b[0m    Disable use of uv-managed Python versions [env: UV_NO_MANAGED_PYTHON=]\n",
      "      \u001b[1m\u001b[36m--no-python-downloads\u001b[0m  Disable automatic downloads of Python. [env:\n",
      "                             \"UV_PYTHON_DOWNLOADS=never\"]\n",
      "\n",
      "\u001b[1m\u001b[32mGlobal options:\u001b[0m\n",
      "  \u001b[1m\u001b[36m-q\u001b[0m, \u001b[1m\u001b[36m--quiet\u001b[0m\u001b[36m...\u001b[0m\n",
      "          Use quiet output\n",
      "  \u001b[1m\u001b[36m-v\u001b[0m, \u001b[1m\u001b[36m--verbose\u001b[0m\u001b[36m...\u001b[0m\n",
      "          Use verbose output\n",
      "      \u001b[1m\u001b[36m--color\u001b[0m\u001b[36m \u001b[0m\u001b[36m<COLOR_CHOICE>\u001b[0m\n",
      "          Control the use of color in output [possible values: auto, always, never]\n",
      "      \u001b[1m\u001b[36m--native-tls\u001b[0m\n",
      "          Whether to load TLS certificates from the platform's native certificate store [env:\n",
      "          UV_NATIVE_TLS=]\n",
      "      \u001b[1m\u001b[36m--offline\u001b[0m\n",
      "          Disable network access [env: UV_OFFLINE=]\n",
      "      \u001b[1m\u001b[36m--allow-insecure-host\u001b[0m\u001b[36m \u001b[0m\u001b[36m<ALLOW_INSECURE_HOST>\u001b[0m\n",
      "          Allow insecure connections to a host [env: UV_INSECURE_HOST=]\n",
      "      \u001b[1m\u001b[36m--no-progress\u001b[0m\n",
      "          Hide all progress outputs [env: UV_NO_PROGRESS=]\n",
      "      \u001b[1m\u001b[36m--directory\u001b[0m\u001b[36m \u001b[0m\u001b[36m<DIRECTORY>\u001b[0m\n",
      "          Change to the given directory prior to running the command\n",
      "      \u001b[1m\u001b[36m--project\u001b[0m\u001b[36m \u001b[0m\u001b[36m<PROJECT>\u001b[0m\n",
      "          Run the command within the given project directory [env: UV_PROJECT=]\n",
      "      \u001b[1m\u001b[36m--config-file\u001b[0m\u001b[36m \u001b[0m\u001b[36m<CONFIG_FILE>\u001b[0m\n",
      "          The path to a `uv.toml` file to use for configuration [env: UV_CONFIG_FILE=]\n",
      "      \u001b[1m\u001b[36m--no-config\u001b[0m\n",
      "          Avoid discovering configuration files (`pyproject.toml`, `uv.toml`) [env: UV_NO_CONFIG=]\n",
      "  \u001b[1m\u001b[36m-h\u001b[0m, \u001b[1m\u001b[36m--help\u001b[0m\n",
      "          Display the concise help for this command\n",
      "  \u001b[1m\u001b[36m-V\u001b[0m, \u001b[1m\u001b[36m--version\u001b[0m\n",
      "          Display the uv version\n",
      "\n",
      "Use `uv help` for more details.\n",
      " )\n"
     ]
    }
   ],
   "source": [
    "\n",
    "SHELL = os.environ.get(\"SHELL\", \"/bin/sh\")\n",
    "SHELL = \"/bin/zsh\"\n",
    "cmd = f'{SHELL} -c \"which uv && nohup uv --help > test.out 2>&1 && sleep 2 && cat test.out\"'\n",
    "# cmd = f'uv --help'\n",
    "\n",
    "\n",
    "use_shell = True\n",
    "proc = subprocess.Popen(\n",
    "    cmd,\n",
    "    shell=use_shell,\n",
    "    cwd=\"/Users/koen/.toolbox/installed/syftbox-queryengine-mcp\",\n",
    "    text=True,\n",
    "    executable=SHELL,\n",
    "    stdout=subprocess.PIPE,\n",
    "    stderr=subprocess.PIPE\n",
    ")\n",
    "status_code = proc.wait(timeout=3)\n",
    "stdout, stderr = proc.communicate(timeout=10)\n",
    "print(f\"{stdout} {stderr})\")\n"
   ]
  },
  {
   "cell_type": "code",
   "execution_count": 6,
   "id": "c2ed81a4",
   "metadata": {},
   "outputs": [
    {
     "data": {
      "text/plain": [
       "0"
      ]
     },
     "execution_count": 6,
     "metadata": {},
     "output_type": "execute_result"
    }
   ],
   "source": [
    "status_code"
   ]
  },
  {
   "cell_type": "code",
   "execution_count": 8,
   "id": "dc226fbc",
   "metadata": {},
   "outputs": [
    {
     "name": "stdout",
     "output_type": "stream",
     "text": [
      "('/Users/koen/.local/bin/uv\\nAn extremely fast Python package manager.\\n\\n\\x1b[1m\\x1b[32mUsage:\\x1b[0m \\x1b[1m\\x1b[36muv\\x1b[0m \\x1b[36m[OPTIONS]\\x1b[0m \\x1b[36m<COMMAND>\\x1b[0m\\n\\n\\x1b[1m\\x1b[32mCommands:\\x1b[0m\\n  \\x1b[1m\\x1b[36mrun\\x1b[0m      Run a command or script\\n  \\x1b[1m\\x1b[36minit\\x1b[0m     Create a new project\\n  \\x1b[1m\\x1b[36madd\\x1b[0m      Add dependencies to the project\\n  \\x1b[1m\\x1b[36mremove\\x1b[0m   Remove dependencies from the project\\n  \\x1b[1m\\x1b[36mversion\\x1b[0m  Read or update the project\\'s version\\n  \\x1b[1m\\x1b[36msync\\x1b[0m     Update the project\\'s environment\\n  \\x1b[1m\\x1b[36mlock\\x1b[0m     Update the project\\'s lockfile\\n  \\x1b[1m\\x1b[36mexport\\x1b[0m   Export the project\\'s lockfile to an alternate format\\n  \\x1b[1m\\x1b[36mtree\\x1b[0m     Display the project\\'s dependency tree\\n  \\x1b[1m\\x1b[36mtool\\x1b[0m     Run and install commands provided by Python packages\\n  \\x1b[1m\\x1b[36mpython\\x1b[0m   Manage Python versions and installations\\n  \\x1b[1m\\x1b[36mpip\\x1b[0m      Manage Python packages with a pip-compatible interface\\n  \\x1b[1m\\x1b[36mvenv\\x1b[0m     Create a virtual environment\\n  \\x1b[1m\\x1b[36mbuild\\x1b[0m    Build Python packages into source distributions and wheels\\n  \\x1b[1m\\x1b[36mpublish\\x1b[0m  Upload distributions to an index\\n  \\x1b[1m\\x1b[36mcache\\x1b[0m    Manage uv\\'s cache\\n  \\x1b[1m\\x1b[36mself\\x1b[0m     Manage the uv executable\\n  \\x1b[1m\\x1b[36mhelp\\x1b[0m     Display documentation for a command\\n\\n\\x1b[1m\\x1b[32mCache options:\\x1b[0m\\n  \\x1b[1m\\x1b[36m-n\\x1b[0m, \\x1b[1m\\x1b[36m--no-cache\\x1b[0m               Avoid reading from or writing to the cache, instead using a temporary\\n                               directory for the duration of the operation [env: UV_NO_CACHE=]\\n      \\x1b[1m\\x1b[36m--cache-dir\\x1b[0m\\x1b[36m \\x1b[0m\\x1b[36m<CACHE_DIR>\\x1b[0m  Path to the cache directory [env: UV_CACHE_DIR=]\\n\\n\\x1b[1m\\x1b[32mPython options:\\x1b[0m\\n      \\x1b[1m\\x1b[36m--managed-python\\x1b[0m       Require use of uv-managed Python versions [env: UV_MANAGED_PYTHON=]\\n      \\x1b[1m\\x1b[36m--no-managed-python\\x1b[0m    Disable use of uv-managed Python versions [env: UV_NO_MANAGED_PYTHON=]\\n      \\x1b[1m\\x1b[36m--no-python-downloads\\x1b[0m  Disable automatic downloads of Python. [env:\\n                             \"UV_PYTHON_DOWNLOADS=never\"]\\n\\n\\x1b[1m\\x1b[32mGlobal options:\\x1b[0m\\n  \\x1b[1m\\x1b[36m-q\\x1b[0m, \\x1b[1m\\x1b[36m--quiet\\x1b[0m\\x1b[36m...\\x1b[0m\\n          Use quiet output\\n  \\x1b[1m\\x1b[36m-v\\x1b[0m, \\x1b[1m\\x1b[36m--verbose\\x1b[0m\\x1b[36m...\\x1b[0m\\n          Use verbose output\\n      \\x1b[1m\\x1b[36m--color\\x1b[0m\\x1b[36m \\x1b[0m\\x1b[36m<COLOR_CHOICE>\\x1b[0m\\n          Control the use of color in output [possible values: auto, always, never]\\n      \\x1b[1m\\x1b[36m--native-tls\\x1b[0m\\n          Whether to load TLS certificates from the platform\\'s native certificate store [env:\\n          UV_NATIVE_TLS=]\\n      \\x1b[1m\\x1b[36m--offline\\x1b[0m\\n          Disable network access [env: UV_OFFLINE=]\\n      \\x1b[1m\\x1b[36m--allow-insecure-host\\x1b[0m\\x1b[36m \\x1b[0m\\x1b[36m<ALLOW_INSECURE_HOST>\\x1b[0m\\n          Allow insecure connections to a host [env: UV_INSECURE_HOST=]\\n      \\x1b[1m\\x1b[36m--no-progress\\x1b[0m\\n          Hide all progress outputs [env: UV_NO_PROGRESS=]\\n      \\x1b[1m\\x1b[36m--directory\\x1b[0m\\x1b[36m \\x1b[0m\\x1b[36m<DIRECTORY>\\x1b[0m\\n          Change to the given directory prior to running the command\\n      \\x1b[1m\\x1b[36m--project\\x1b[0m\\x1b[36m \\x1b[0m\\x1b[36m<PROJECT>\\x1b[0m\\n          Run the command within the given project directory [env: UV_PROJECT=]\\n      \\x1b[1m\\x1b[36m--config-file\\x1b[0m\\x1b[36m \\x1b[0m\\x1b[36m<CONFIG_FILE>\\x1b[0m\\n          The path to a `uv.toml` file to use for configuration [env: UV_CONFIG_FILE=]\\n      \\x1b[1m\\x1b[36m--no-config\\x1b[0m\\n          Avoid discovering configuration files (`pyproject.toml`, `uv.toml`) [env: UV_NO_CONFIG=]\\n  \\x1b[1m\\x1b[36m-h\\x1b[0m, \\x1b[1m\\x1b[36m--help\\x1b[0m\\n          Display the concise help for this command\\n  \\x1b[1m\\x1b[36m-V\\x1b[0m, \\x1b[1m\\x1b[36m--version\\x1b[0m\\n          Display the uv version\\n\\nUse `uv help` for more details.\\n', '')\n"
     ]
    }
   ],
   "source": [
    "print((stdout, stderr))"
   ]
  },
  {
   "cell_type": "code",
   "execution_count": 12,
   "id": "0d95030b",
   "metadata": {},
   "outputs": [
    {
     "name": "stdout",
     "output_type": "stream",
     "text": [
      "uv\u001b[0m \u001b[36m[OPTIONS]\u001b[0m \u001b[36m<COMMAND>\n"
     ]
    }
   ],
   "source": [
    "print(\"uv\\x1b[0m \\x1b[36m[OPTIONS]\\x1b[0m \\x1b[36m<COMMAND>\")"
   ]
  },
  {
   "cell_type": "code",
   "execution_count": null,
   "id": "d4b60846",
   "metadata": {},
   "outputs": [],
   "source": []
  }
 ],
 "metadata": {
  "kernelspec": {
   "display_name": "Python 3 (ipykernel)",
   "language": "python",
   "name": "python3"
  },
  "language_info": {
   "codemirror_mode": {
    "name": "ipython",
    "version": 3
   },
   "file_extension": ".py",
   "mimetype": "text/x-python",
   "name": "python",
   "nbconvert_exporter": "python",
   "pygments_lexer": "ipython3",
   "version": "3.12.11"
  }
 },
 "nbformat": 4,
 "nbformat_minor": 5
}
