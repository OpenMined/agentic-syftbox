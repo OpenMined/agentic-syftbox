{
 "cells": [
  {
   "cell_type": "code",
   "execution_count": 44,
   "metadata": {},
   "outputs": [],
   "source": [
    "from tabulate import tabulate\n",
    "import sqlite3\n",
    "import json"
   ]
  },
  {
   "cell_type": "code",
   "execution_count": 45,
   "metadata": {},
   "outputs": [],
   "source": [
    "from pydantic import BaseModel\n",
    "\n",
    "class InstalledMCP(BaseModel):\n",
    "    name: str\n",
    "    clients: list[str]\n",
    "    read_access: list[str]\n",
    "    write_access: list[str]\n",
    "    model: str | None = None\n",
    "    host: str\n",
    "    managed_by: str\n",
    "    proxy: str | None = None\n",
    "    verified: bool\n",
    "    \n",
    "    def format_as_tabulate_row(self) -> list[str]:\n",
    "        return [\n",
    "            self.name,\n",
    "            \", \".join(self.clients),\n",
    "            \", \".join(self.read_access),\n",
    "            \", \".join(self.write_access),\n",
    "            self.model if self.model is not None else \"\",\n",
    "            self.host,\n",
    "            self.managed_by,\n",
    "            self.proxy,\n",
    "            \"y\" if self.verified else \"n\",\n",
    "        ]\n",
    "        \n",
    "    @classmethod\n",
    "    def from_db_row(cls, row: sqlite3.Row):\n",
    "        row = dict(row)\n",
    "        row['clients'] = json.loads(row['clients'])\n",
    "        row['read_access'] = json.loads(row['read_access'])\n",
    "        row['write_access'] = json.loads(row['write_access'])\n",
    "        return cls(**row)"
   ]
  },
  {
   "cell_type": "code",
   "execution_count": 71,
   "metadata": {},
   "outputs": [],
   "source": [
    "INSTALLED_HEADERS = [\"NAME\", \"CLIENTS\", \"READ_ACCESS\", \"WRITE_ACCESS\", \"MODEL\", \"HOST\", \"MANAGED_BY\", \"PROXY\", \"VERIFIED\"]"
   ]
  },
  {
   "cell_type": "code",
   "execution_count": 72,
   "metadata": {},
   "outputs": [],
   "source": [
    "# conn = sqlite3.connect(\"mcp.db\")\n",
    "conn = sqlite3.connect(\":memory:\")\n",
    "conn.row_factory = sqlite3.Row\n",
    "curr = conn.cursor()\n",
    "\n",
    "def create_table(conn: sqlite3.Connection):\n",
    "    curr = conn.cursor()\n",
    "    curr.execute(\"CREATE TABLE IF NOT EXISTS mcps (name TEXT, clients TEXT, read_access TEXT, write_access TEXT, model TEXT, host TEXT, managed_by TEXT, proxy TEXT, verified TEXT)\")\n",
    "\n",
    "def insert_mcp(conn: sqlite3.Connection, mcp: InstalledMCP):\n",
    "    curr = conn.cursor()\n",
    "    curr.execute(f\"INSERT INTO mcps ({','.join(INSTALLED_HEADERS)}) VALUES (?, ?, ?, ?, ?, ?, ?, ?, ?)\", \n",
    "        (mcp.name, \n",
    "         json.dumps(mcp.clients), \n",
    "         json.dumps(mcp.read_access), \n",
    "         json.dumps(mcp.write_access), \n",
    "         mcp.model, \n",
    "         mcp.host, \n",
    "         mcp.managed_by, \n",
    "         mcp.proxy, \n",
    "         mcp.verified))\n",
    "    # curr.execute(\"INSERT INTO mcps (name, clients, read_access, write_access, model, host, managed_by, proxy, verified) VALUES (?, ?, ?, ?, ?, ?, ?, ?, ?)\", (mcp.name, mcp.clients, mcp.read_access, mcp.write_access, mcp.model, mcp.host, mcp.managed_by, mcp.proxy, mcp.verified))\n",
    "\n",
    "def query_mcps(conn: sqlite3.Connection):\n",
    "    curr = conn.cursor()\n",
    "    curr.execute(\"SELECT * FROM mcps\")\n",
    "    return curr.fetchall()\n",
    "\n",
    "def get_mcps(conn: sqlite3.Connection):\n",
    "    res = query_mcps(conn)\n",
    "    return [InstalledMCP.from_db_row(row) for row in res]\n",
    "    \n",
    "def get_mcp(conn: sqlite3.Connection, name: str):\n",
    "    curr = conn.cursor()\n",
    "    curr.execute(\"SELECT * FROM mcps WHERE name = ?\", (name,))\n",
    "    row = curr.fetchone()\n",
    "    return InstalledMCP.from_db_row(row)\n",
    "\n",
    "create_table(conn)\n",
    "# conn.close()"
   ]
  },
  {
   "cell_type": "code",
   "execution_count": 73,
   "metadata": {},
   "outputs": [],
   "source": [
    "def install(name: str, clients: list[str], read_access: list[str], write_access: list[str], model: str | None = None, host: str | None = None, managed_by: str | None = None, proxy: str | None = None, verified: bool = False):\n",
    "    mcp = InstalledMCP(\n",
    "        name=name,\n",
    "        clients=clients,\n",
    "        read_access=read_access,\n",
    "        write_access=write_access,\n",
    "        model=model,\n",
    "        host=host,\n",
    "        managed_by=managed_by,\n",
    "        proxy=proxy,\n",
    "        verified=verified,\n",
    "    )\n",
    "    insert_mcp(conn, mcp)\n",
    "    \n",
    "    # launch mcp server. 3 options: \n",
    "    # 1. local mcp server over stdio\n",
    "    # 2. local mcp server over http (not for now?) -> requires daemon\n",
    "    # 3. remote openmined mcp server over http\n",
    "    "
   ]
  },
  {
   "cell_type": "code",
   "execution_count": null,
   "metadata": {},
   "outputs": [],
   "source": [
    "import json\n",
    "import platform\n",
    "from pathlib import Path\n",
    "\n",
    "class MCPConfigItem(BaseModel):\n",
    "    name: str\n",
    "    json_body: dict\n",
    "    client: str\n",
    "    \n",
    "\n",
    "def current_claude_desktop_config():\n",
    "    if platform.system() != 'Darwin':\n",
    "        raise RuntimeError(\"Currently only macOS is supported\")\n",
    "    HOME = Path.home()\n",
    "    with open(f\"{HOME}/Library/Application Support/Claude/claude_desktop_config.json\", \"r\") as f:\n",
    "        return json.load(f)\n",
    "\n",
    "def get_claude_config_items():\n",
    "    full_json = current_claude_desktop_config()\n",
    "    for item in full_json['mcpServers']:\n",
    "        yield MCPConfigItem(\n",
    "            name=item['name'],\n",
    "            json_body=item['jsonBody'],\n",
    "            client=\"claude\",\n",
    "        )"
   ]
  },
  {
   "cell_type": "code",
   "execution_count": null,
   "metadata": {},
   "outputs": [],
   "source": []
  },
  {
   "cell_type": "code",
   "execution_count": null,
   "metadata": {},
   "outputs": [],
   "source": []
  },
  {
   "cell_type": "markdown",
   "metadata": {},
   "source": [
    "# TODO\n",
    "**list mcp servers needed for demo**:\n",
    "- github\n",
    "- custom notes mcp over streamable http?\n",
    "- screenpipe (only download )\n",
    "\n",
    "\n",
    "**design daemon framework**:\n",
    "- skip first, just check before every command if\n",
    "- 1 there were manual changes to mcp servers (for stdio, proxies)\n",
    "- \n",
    "\n",
    "**toolbox daemon responsibilities:**\n",
    "- start at startup\n",
    "- for all local http servers, make sure they are on\n",
    "- perhaps update the state? what if someone manually installed an mcp in cursor\n",
    "\n",
    "\n",
    "\n",
    "\n",
    "- implement installation for demo mcp servers\n",
    "- implement daemon such that they are always online"
   ]
  },
  {
   "cell_type": "code",
   "execution_count": 74,
   "metadata": {},
   "outputs": [],
   "source": [
    "install(name=\"github mcp\", clients=[\"claude\", \"cursor\"],\n",
    "        read_access=[\"Issues\", \"PRs\", \"Settings\"], write_access=[\"Issues\", \"PRs\", \"Settings\"],\n",
    "        model=\"\", host=\"localhost\", managed_by=\"macbook-pro-koen\", proxy=None, verified=True)"
   ]
  },
  {
   "cell_type": "code",
   "execution_count": 78,
   "metadata": {},
   "outputs": [],
   "source": [
    "def installed(conn):\n",
    "    mcps = get_mcps(conn)\n",
    "    print(\n",
    "        tabulate(\n",
    "            [m.format_as_tabulate_row() for m in mcps],\n",
    "            headers=INSTALLED_HEADERS,\n",
    "            tablefmt='orgtbl'\n",
    "            )\n",
    "        )\n",
    "    "
   ]
  },
  {
   "cell_type": "code",
   "execution_count": null,
   "metadata": {},
   "outputs": [],
   "source": [
    "installed(conn)"
   ]
  },
  {
   "cell_type": "code",
   "execution_count": null,
   "metadata": {},
   "outputs": [],
   "source": []
  }
 ],
 "metadata": {
  "kernelspec": {
   "display_name": "Python 3 (ipykernel)",
   "language": "python",
   "name": "python3"
  },
  "language_info": {
   "codemirror_mode": {
    "name": "ipython",
    "version": 3
   },
   "file_extension": ".py",
   "mimetype": "text/x-python",
   "name": "python",
   "nbconvert_exporter": "python",
   "pygments_lexer": "ipython3",
   "version": "3.12.10"
  }
 },
 "nbformat": 4,
 "nbformat_minor": 2
}
