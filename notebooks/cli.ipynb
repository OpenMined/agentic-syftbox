{
 "cells": [
  {
   "cell_type": "markdown",
   "metadata": {},
   "source": [
    "# store"
   ]
  },
  {
   "cell_type": "code",
   "execution_count": 3,
   "metadata": {},
   "outputs": [],
   "source": []
  },
  {
   "cell_type": "code",
   "execution_count": 4,
   "metadata": {},
   "outputs": [],
   "source": []
  },
  {
   "cell_type": "code",
   "execution_count": 5,
   "metadata": {},
   "outputs": [],
   "source": []
  },
  {
   "cell_type": "code",
   "execution_count": 6,
   "metadata": {},
   "outputs": [],
   "source": []
  },
  {
   "cell_type": "code",
   "execution_count": 7,
   "metadata": {},
   "outputs": [],
   "source": []
  },
  {
   "cell_type": "code",
   "execution_count": 8,
   "metadata": {},
   "outputs": [],
   "source": []
  },
  {
   "cell_type": "code",
   "execution_count": 9,
   "metadata": {},
   "outputs": [],
   "source": []
  },
  {
   "cell_type": "code",
   "execution_count": 10,
   "metadata": {},
   "outputs": [],
   "source": []
  },
  {
   "cell_type": "code",
   "execution_count": 11,
   "metadata": {},
   "outputs": [],
   "source": []
  },
  {
   "cell_type": "code",
   "execution_count": 12,
   "metadata": {},
   "outputs": [],
   "source": []
  },
  {
   "cell_type": "code",
   "execution_count": 13,
   "metadata": {},
   "outputs": [],
   "source": []
  },
  {
   "cell_type": "code",
   "execution_count": 14,
   "metadata": {},
   "outputs": [],
   "source": [
    "config_items = get_claude_config_items()"
   ]
  },
  {
   "cell_type": "markdown",
   "metadata": {},
   "source": [
    "# TODO\n",
    "**list mcp servers needed for demo**:\n",
    "- github\n",
    "- custom notes mcp over streamable http?\n",
    "- screenpipe (only download )\n",
    "\n",
    "\n",
    "**design daemon framework**:\n",
    "- skip first, just check before every command if\n",
    "- 1 there were manual changes to mcp servers (for stdio, proxies)\n",
    "- \n",
    "\n",
    "**toolbox daemon responsibilities:**\n",
    "- start at startup\n",
    "- for all local http servers, make sure they are on\n",
    "- perhaps update the state? what if someone manually installed an mcp in cursor\n",
    "\n",
    "\n",
    "\n",
    "\n",
    "- implement installation for demo mcp servers\n",
    "- implement daemon such that they are always online"
   ]
  },
  {
   "cell_type": "code",
   "execution_count": 15,
   "metadata": {},
   "outputs": [
    {
     "name": "stdout",
     "output_type": "stream",
     "text": [
      "| NAME   | CLIENT   | DEPLOYMENT METHOD   | READ_ACCESS   | WRITE_ACCESS   | MODEL   | HOST   | MANAGED_BY   | PROXY   | VERIFIED   | CLIENT CONFIG   |\n",
      "|--------+----------+---------------------+---------------+----------------+---------+--------+--------------+---------+------------+-----------------|\n"
     ]
    }
   ],
   "source": [
    "installed(conn)"
   ]
  },
  {
   "cell_type": "code",
   "execution_count": 16,
   "metadata": {},
   "outputs": [],
   "source": [
    "install(name=\"github mcp\", clients=[\"claude\"])"
   ]
  },
  {
   "cell_type": "code",
   "execution_count": 17,
   "metadata": {},
   "outputs": [
    {
     "name": "stdout",
     "output_type": "stream",
     "text": [
      "| NAME       | CLIENT   | DEPLOYMENT METHOD   | READ_ACCESS   | WRITE_ACCESS   | MODEL   | HOST                | MANAGED_BY   | PROXY   | VERIFIED   | CLIENT CONFIG                                                                      |\n",
      "|------------+----------+---------------------+---------------+----------------+---------+---------------------+--------------+---------+------------+------------------------------------------------------------------------------------|\n",
      "| github mcp | claude   | stdio               | Issues,       | Issues,        |         | MacBook-Pro-2.local | claude       |         | ✓          | file:///Users/koen/Library/Application%20Support/Claude/claude_desktop_config.json |\n",
      "|            |          |                     | PRs,          | PRs,           |         |                     |              |         |            |                                                                                    |\n",
      "|            |          |                     | Settings      | Settings       |         |                     |              |         |            |                                                                                    |\n"
     ]
    }
   ],
   "source": [
    "installed(conn)"
   ]
  },
  {
   "cell_type": "code",
   "execution_count": 18,
   "metadata": {},
   "outputs": [],
   "source": [
    "install(name=\"todo extractor mcp\", clients=[\"claude\"])"
   ]
  },
  {
   "cell_type": "code",
   "execution_count": 19,
   "metadata": {},
   "outputs": [
    {
     "name": "stdout",
     "output_type": "stream",
     "text": [
      "| NAME               | CLIENT   | DEPLOYMENT METHOD   | READ_ACCESS            | WRITE_ACCESS   | MODEL   | HOST                | MANAGED_BY   | PROXY      | VERIFIED   | CLIENT CONFIG                                                                      |\n",
      "|--------------------+----------+---------------------+------------------------+----------------+---------+---------------------+--------------+------------+------------+------------------------------------------------------------------------------------|\n",
      "| github mcp         | claude   | stdio               | Issues,                | Issues,        |         | MacBook-Pro-2.local | claude       |            | ✓          | file:///Users/koen/Library/Application%20Support/Claude/claude_desktop_config.json |\n",
      "|                    |          |                     | PRs,                   | PRs,           |         |                     |              |            |            |                                                                                    |\n",
      "|                    |          |                     | Settings               | Settings       |         |                     |              |            |            |                                                                                    |\n",
      "| todo extractor mcp | claude   | proxy-to-om-enclave | Apple Audio Recordings | Meeting Notes  |         | OM enclave          | OM enclave   | mcp-remote | ✓          | file:///Users/koen/Library/Application%20Support/Claude/claude_desktop_config.json |\n"
     ]
    }
   ],
   "source": [
    "installed(conn)\n"
   ]
  },
  {
   "cell_type": "code",
   "execution_count": null,
   "metadata": {},
   "outputs": [],
   "source": []
  }
 ],
 "metadata": {
  "kernelspec": {
   "display_name": "Python 3 (ipykernel)",
   "language": "python",
   "name": "python3"
  }
 },
 "nbformat": 4,
 "nbformat_minor": 2
}
