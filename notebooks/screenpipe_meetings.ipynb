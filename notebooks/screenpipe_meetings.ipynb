{
 "cells": [
  {
   "cell_type": "code",
   "execution_count": 23,
   "metadata": {},
   "outputs": [],
   "source": [
    "import sqlite3\n",
    "import os\n",
    "from pathlib import Path\n",
    "from anthropic import Anthropic\n",
    "from datetime import datetime\n",
    " \n",
    "REPO_PATH = Path(\"/Users/koen/workspace/agentic-syftbox\")\n",
    "SCREENPIPE_PATH = REPO_PATH / \"data\" / \"screenpipe\" / \"db2.sqlite\" \n"
   ]
  },
  {
   "cell_type": "code",
   "execution_count": 24,
   "metadata": {},
   "outputs": [],
   "source": [
    "# Connect to the SQLite database\n",
    "conn = sqlite3.connect(SCREENPIPE_PATH)\n",
    "conn.row_factory = sqlite3.Row"
   ]
  },
  {
   "cell_type": "code",
   "execution_count": 25,
   "metadata": {},
   "outputs": [],
   "source": [
    "cursor = conn.cursor()\n",
    "# Query the audio_transcriptions table\n",
    "cursor.execute(\"SELECT * FROM audio_transcriptions\")\n",
    "rows = [dict(x) for x in cursor.fetchall()]\n",
    "fragments = []\n",
    "\n",
    "meetings = []\n",
    "current_meeting_rows = []\n",
    "if len(rows) > 0:\n",
    "    previous_start_date = datetime.fromisoformat(rows[0][\"timestamp\"])\n",
    "\n",
    "    for row in rows:\n",
    "        speaker_id = row[\"speaker_id\"]\n",
    "        transcription = row[\"transcription\"]\n",
    "        timestamp = row[\"timestamp\"]\n",
    "        \n",
    "        chunk_datetime = datetime.fromisoformat(timestamp)\n",
    "        time_diff = (chunk_datetime - previous_start_date).total_seconds() / 60\n",
    "        if time_diff > 30:\n",
    "            if current_meeting_rows:\n",
    "                meetings.append(current_meeting_rows)\n",
    "            current_meeting_rows = [row]\n",
    "            previous_start_date = chunk_datetime\n",
    "        else:\n",
    "            current_meeting_rows.append(row)\n",
    "    meetings.append(current_meeting_rows)\n",
    "        \n",
    "        \n"
   ]
  },
  {
   "cell_type": "markdown",
   "metadata": {},
   "source": [
    "table meeting_meta\n",
    "\n",
    "meeting_id | filename\n",
    "\n",
    "table meeting_chunks\n",
    "\n",
    "meeting_i | chunkid\n",
    "\n",
    "```\n",
    "\n",
    "CREATE TABLE IF NOT EXISTS meeting_meta (\n",
    "    meeting_id INTEGER PRIMARY KEY,\n",
    "    filename TEXT NOT NULL\n",
    ");\n",
    "\n",
    "CREATE TABLE IF NOT EXISTS meeting_chunks (\n",
    "    meeting_id INTEGER,\n",
    "    chunkid INTEGER,\n",
    "    date_unix INTEGER,\n",
    "    text TEXT,\n",
    "    FOREIGN KEY (meeting_id) REFERENCES meeting_meta(meeting_id),\n",
    "    PRIMARY KEY (meeting_id, chunkid)\n",
    ");\n",
    "```\n"
   ]
  },
  {
   "cell_type": "markdown",
   "metadata": {},
   "source": [
    "Meetings CTE\n",
    "| Meeting id | filename | full text | start date | end date\n",
    "\n",
    "\n",
    "```\n",
    "WITH meetings AS (\n",
    "  SELECT\n",
    "    mc.meeting_id,\n",
    "    mm.filename,\n",
    "    MIN(mc.date) AS start_date,\n",
    "    MAX(mc.date) AS end_date,\n",
    "    GROUP_CONCAT(mc.text, ' ') AS full_text\n",
    "  FROM (\n",
    "    SELECT * FROM meeting_chunks ORDER BY date, chunkid\n",
    "  ) mc\n",
    "  JOIN meeting_meta mm ON mc.meeting_id = mm.meeting_id\n",
    "  GROUP BY mc.meeting_id\n",
    ")\n",
    "SELECT *\n",
    "FROM meetings;\n",
    "```"
   ]
  },
  {
   "cell_type": "code",
   "execution_count": 28,
   "metadata": {},
   "outputs": [
    {
     "name": "stdout",
     "output_type": "stream",
     "text": [
      "meeting 2025-06-03T14:30:48.452985+00:00\n",
      "1\n",
      "2\n",
      "\n",
      "meeting 2025-06-05T13:00:36.357322+00:00\n",
      "3\n",
      "4\n",
      "4\n",
      "5\n",
      "5\n",
      "6\n",
      "7\n",
      "\n",
      "meeting 2025-06-05T14:08:44.519520+00:00\n",
      "8\n",
      "\n"
     ]
    }
   ],
   "source": [
    "for chunks in meetings:\n",
    "    date = chunks[0][\"timestamp\"]\n",
    "    print(f\"meeting {date}\")\n",
    "    for chunk in chunks:\n",
    "        print(chunk[\"audio_chunk_id\"])\n",
    "    \n",
    "    print()\n",
    "    "
   ]
  },
  {
   "cell_type": "code",
   "execution_count": null,
   "metadata": {},
   "outputs": [],
   "source": [
    "\n",
    "\n",
    "\n",
    "\n"
   ]
  },
  {
   "cell_type": "code",
   "execution_count": null,
   "metadata": {},
   "outputs": [],
   "source": []
  }
 ],
 "metadata": {
  "kernelspec": {
   "display_name": "Python 3 (ipykernel)",
   "language": "python",
   "name": "python3"
  }
 },
 "nbformat": 4,
 "nbformat_minor": 2
}
