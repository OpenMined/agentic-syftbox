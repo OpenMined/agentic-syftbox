{
 "cells": [
  {
   "cell_type": "code",
   "execution_count": 15,
   "metadata": {},
   "outputs": [],
   "source": []
  },
  {
   "cell_type": "code",
   "execution_count": 16,
   "metadata": {},
   "outputs": [],
   "source": [
    "from fastsyftbox.simple_client import SimpleRPCClient\n",
    "client = SimpleRPCClient(app_name=\"data-syncer\", dev_mode=True)"
   ]
  },
  {
   "cell_type": "code",
   "execution_count": 17,
   "metadata": {},
   "outputs": [
    {
     "name": "stdout",
     "output_type": "stream",
     "text": [
      "writing request to /private/tmp/data-syncer/datasites/guest@syftbox.com/app_data/data-syncer/rpc/submit_transcription/d6c845f4-23ae-4ad9-afa6-9ca255af66e6.request\n",
      "{\"id\":\"d6c845f4-23ae-4ad9-afa6-9ca255af66e6\",\"sender\":\"guest@syftbox.com\",\"url\":\"syft://guest@syftbox.com/app_data/data-syncer/rpc//submit_transcription\",\"body\":\"eyJ0cmFuc2NyaXB0aW9uIjoiSGVsbG8sIHdvcmxkZCEifQ==\",\"headers\":{\"host\":\"localhost\",\"accept\":\"*/*\",\"accept-encoding\":\"gzip, deflate, zstd\",\"connection\":\"keep-alive\",\"user-agent\":\"python-httpx/0.28.1\",\"content-length\":\"34\",\"content-type\":\"application/json\"},\"created\":\"2025-06-18T15:37:39.888687+00:00\",\"expires\":\"2025-06-18T15:52:39.888366+00:00\",\"method\":\"POST\"}\n",
      "id=UUID('d6c845f4-23ae-4ad9-afa6-9ca255af66e6') sender='guest@syftbox.com' url='syft://guest@syftbox.com/app_data/data-syncer/rpc//submit_transcription' body=b'\"{\\\\\"message\\\\\":\\\\\"success\\\\\"}\"' headers={'content-length': '27', 'content-type': 'application/json'} created=datetime.datetime(2025, 6, 18, 15, 37, 39, 968433, tzinfo=TzInfo(UTC)) expires=datetime.datetime(2025, 6, 18, 15, 52, 39, 888366, tzinfo=TzInfo(UTC)) status_code=<SyftStatus.OK: 200>\n"
     ]
    }
   ],
   "source": [
    "res = client.post(\"/submit_transcription\", json={\"transcription\": \"Hello, worldd!\"})"
   ]
  },
  {
   "cell_type": "code",
   "execution_count": 18,
   "metadata": {},
   "outputs": [
    {
     "data": {
      "text/plain": [
       "{'message': 'success'}"
      ]
     },
     "execution_count": 18,
     "metadata": {},
     "output_type": "execute_result"
    }
   ],
   "source": [
    "import json\n",
    "json.loads(res.json())\n"
   ]
  },
  {
   "cell_type": "code",
   "execution_count": null,
   "metadata": {},
   "outputs": [],
   "source": []
  }
 ],
 "metadata": {
  "kernelspec": {
   "display_name": "Python 3 (ipykernel)",
   "language": "python",
   "name": "python3"
  },
  "language_info": {
   "codemirror_mode": {
    "name": "ipython",
    "version": 3
   },
   "file_extension": ".py",
   "mimetype": "text/x-python",
   "name": "python",
   "nbconvert_exporter": "python",
   "pygments_lexer": "ipython3",
   "version": "3.12.10"
  }
 },
 "nbformat": 4,
 "nbformat_minor": 2
}
