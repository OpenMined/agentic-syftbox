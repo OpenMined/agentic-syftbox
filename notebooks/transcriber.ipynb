{
 "cells": [
  {
   "cell_type": "code",
   "execution_count": 21,
   "metadata": {},
   "outputs": [],
   "source": [
    "import os\n",
    "DEEPGRAM_API_KEY = os.getenv(\"DEEPGRAM_API_KEY\")"
   ]
  },
  {
   "cell_type": "code",
   "execution_count": 23,
   "metadata": {},
   "outputs": [],
   "source": [
    "from pathlib import Path\n",
    "HOME = Path.home()\n"
   ]
  },
  {
   "cell_type": "code",
   "execution_count": null,
   "metadata": {},
   "outputs": [
    {
     "name": "stdout",
     "output_type": "stream",
     "text": [
      "<_io.BufferedReader name='/Users/koen/.screenpipe/data/MacBook Pro Microphone (input)_2025-06-03_14-30-45.mp4'>\n",
      "{'metadata': {'transaction_key': 'deprecated', 'request_id': '32358433-ff7d-4bdb-9c0a-df8b88f8a85d', 'sha256': '88880e70b933888e588267af7fca1e09c26927030573e4752183991ac86ef250', 'created': '2025-06-17T08:20:31.238Z', 'duration': 31.998, 'channels': 1, 'models': ['1abfe86b-e047-4eed-858a-35e5625b41ee'], 'model_info': {'1abfe86b-e047-4eed-858a-35e5625b41ee': {'name': '2-general-nova', 'version': '2024-01-06.5664', 'arch': 'nova-2'}}}, 'results': {'channels': [{'alternatives': [{'transcript': 'So now that we defined the unique value proposition, I think we have a couple to dos couple to dos left that we want to define. The first one is to get ScreenPipe running on my machine. Second to do is to make a recording of a meeting and share the SQLite date database.', 'confidence': 0.99770135, 'words': [{'word': 'so', 'start': 3.12, 'end': 3.4399998, 'confidence': 0.9948226, 'punctuated_word': 'So'}, {'word': 'now', 'start': 3.4399998, 'end': 3.76, 'confidence': 0.9970778, 'punctuated_word': 'now'}, {'word': 'that', 'start': 3.76, 'end': 4.0, 'confidence': 0.9984882, 'punctuated_word': 'that'}, {'word': 'we', 'start': 4.0, 'end': 4.5, 'confidence': 0.99602675, 'punctuated_word': 'we'}, {'word': 'defined', 'start': 4.72, 'end': 5.22, 'confidence': 0.9033544, 'punctuated_word': 'defined'}, {'word': 'the', 'start': 5.2799997, 'end': 5.52, 'confidence': 0.9991035, 'punctuated_word': 'the'}, {'word': 'unique', 'start': 5.52, 'end': 5.92, 'confidence': 0.9998192, 'punctuated_word': 'unique'}, {'word': 'value', 'start': 5.92, 'end': 6.24, 'confidence': 0.9992186, 'punctuated_word': 'value'}, {'word': 'proposition', 'start': 6.24, 'end': 6.74, 'confidence': 0.9595422, 'punctuated_word': 'proposition,'}, {'word': 'i', 'start': 7.68, 'end': 7.8399997, 'confidence': 0.9990827, 'punctuated_word': 'I'}, {'word': 'think', 'start': 7.8399997, 'end': 8.34, 'confidence': 0.99992037, 'punctuated_word': 'think'}, {'word': 'we', 'start': 8.4, 'end': 8.9, 'confidence': 0.9910234, 'punctuated_word': 'we'}, {'word': 'have', 'start': 9.5199995, 'end': 10.0199995, 'confidence': 0.99714214, 'punctuated_word': 'have'}, {'word': 'a', 'start': 10.4, 'end': 10.639999, 'confidence': 0.88962805, 'punctuated_word': 'a'}, {'word': 'couple', 'start': 10.639999, 'end': 11.04, 'confidence': 0.98050284, 'punctuated_word': 'couple'}, {'word': 'to', 'start': 11.04, 'end': 11.2, 'confidence': 0.9723795, 'punctuated_word': 'to'}, {'word': 'dos', 'start': 11.2, 'end': 11.7, 'confidence': 0.6767574, 'punctuated_word': 'dos'}, {'word': 'couple', 'start': 11.92, 'end': 12.4, 'confidence': 0.49344775, 'punctuated_word': 'couple'}, {'word': 'to', 'start': 12.4, 'end': 12.559999, 'confidence': 0.99585235, 'punctuated_word': 'to'}, {'word': 'dos', 'start': 12.559999, 'end': 12.96, 'confidence': 0.99512815, 'punctuated_word': 'dos'}, {'word': 'left', 'start': 12.96, 'end': 13.36, 'confidence': 0.9990559, 'punctuated_word': 'left'}, {'word': 'that', 'start': 13.36, 'end': 13.599999, 'confidence': 0.9924992, 'punctuated_word': 'that'}, {'word': 'we', 'start': 13.599999, 'end': 13.759999, 'confidence': 0.99933773, 'punctuated_word': 'we'}, {'word': 'want', 'start': 13.759999, 'end': 14.0, 'confidence': 0.99770135, 'punctuated_word': 'want'}, {'word': 'to', 'start': 14.0, 'end': 14.16, 'confidence': 0.99967694, 'punctuated_word': 'to'}, {'word': 'define', 'start': 14.16, 'end': 14.66, 'confidence': 0.9986422, 'punctuated_word': 'define.'}, {'word': 'the', 'start': 16.395, 'end': 16.635, 'confidence': 0.9962804, 'punctuated_word': 'The'}, {'word': 'first', 'start': 16.635, 'end': 16.795, 'confidence': 0.9998965, 'punctuated_word': 'first'}, {'word': 'one', 'start': 16.795, 'end': 17.115, 'confidence': 0.99969614, 'punctuated_word': 'one'}, {'word': 'is', 'start': 17.115, 'end': 17.435, 'confidence': 0.99901235, 'punctuated_word': 'is'}, {'word': 'to', 'start': 17.435, 'end': 17.595, 'confidence': 0.9997613, 'punctuated_word': 'to'}, {'word': 'get', 'start': 17.595, 'end': 17.915, 'confidence': 0.99979204, 'punctuated_word': 'get'}, {'word': 'screenpipe', 'start': 17.915, 'end': 18.415, 'confidence': 0.8083079, 'punctuated_word': 'ScreenPipe'}, {'word': 'running', 'start': 19.035, 'end': 19.535, 'confidence': 0.9995925, 'punctuated_word': 'running'}, {'word': 'on', 'start': 19.675, 'end': 19.915, 'confidence': 0.99813604, 'punctuated_word': 'on'}, {'word': 'my', 'start': 19.915, 'end': 20.314999, 'confidence': 0.99988806, 'punctuated_word': 'my'}, {'word': 'machine', 'start': 20.314999, 'end': 20.814999, 'confidence': 0.9917755, 'punctuated_word': 'machine.'}, {'word': 'second', 'start': 22.314999, 'end': 22.635, 'confidence': 0.84907234, 'punctuated_word': 'Second'}, {'word': 'to', 'start': 22.635, 'end': 22.795, 'confidence': 0.9714536, 'punctuated_word': 'to'}, {'word': 'do', 'start': 22.795, 'end': 23.115, 'confidence': 0.99819475, 'punctuated_word': 'do'}, {'word': 'is', 'start': 23.115, 'end': 23.435, 'confidence': 0.9986344, 'punctuated_word': 'is'}, {'word': 'to', 'start': 23.435, 'end': 23.595, 'confidence': 0.9985183, 'punctuated_word': 'to'}, {'word': 'make', 'start': 23.595, 'end': 23.835, 'confidence': 0.9999188, 'punctuated_word': 'make'}, {'word': 'a', 'start': 23.835, 'end': 23.994999, 'confidence': 0.9996923, 'punctuated_word': 'a'}, {'word': 'recording', 'start': 23.994999, 'end': 24.474998, 'confidence': 0.99993837, 'punctuated_word': 'recording'}, {'word': 'of', 'start': 24.474998, 'end': 24.634998, 'confidence': 0.99974614, 'punctuated_word': 'of'}, {'word': 'a', 'start': 24.634998, 'end': 24.795, 'confidence': 0.99950016, 'punctuated_word': 'a'}, {'word': 'meeting', 'start': 24.795, 'end': 25.295, 'confidence': 0.9999877, 'punctuated_word': 'meeting'}, {'word': 'and', 'start': 25.835, 'end': 26.075, 'confidence': 0.97691965, 'punctuated_word': 'and'}, {'word': 'share', 'start': 26.075, 'end': 26.395, 'confidence': 0.9743119, 'punctuated_word': 'share'}, {'word': 'the', 'start': 26.395, 'end': 26.634998, 'confidence': 0.95632255, 'punctuated_word': 'the'}, {'word': 'sqlite', 'start': 26.634998, 'end': 27.134998, 'confidence': 0.9871081, 'punctuated_word': 'SQLite'}, {'word': 'date', 'start': 27.275, 'end': 27.515, 'confidence': 0.6410036, 'punctuated_word': 'date'}, {'word': 'database', 'start': 27.835, 'end': 28.335, 'confidence': 0.9765631, 'punctuated_word': 'database.'}], 'paragraphs': {'transcript': '\\nSo now that we defined the unique value proposition, I think we have a couple to dos couple to dos left that we want to define. The first one is to get ScreenPipe running on my machine. Second to do is to make a recording of a meeting and share the SQLite date database.', 'paragraphs': [{'sentences': [{'text': 'So now that we defined the unique value proposition, I think we have a couple to dos couple to dos left that we want to define.', 'start': 3.12, 'end': 14.66}, {'text': 'The first one is to get ScreenPipe running on my machine.', 'start': 16.395, 'end': 20.814999}, {'text': 'Second to do is to make a recording of a meeting and share the SQLite date database.', 'start': 22.314999, 'end': 28.335}], 'num_words': 54, 'start': 3.12, 'end': 28.335}]}}]}]}}\n"
     ]
    }
   ],
   "source": []
  },
  {
   "cell_type": "code",
   "execution_count": 26,
   "metadata": {},
   "outputs": [],
   "source": [
    "result = response.json()"
   ]
  },
  {
   "cell_type": "code",
   "execution_count": 35,
   "metadata": {},
   "outputs": [],
   "source": [
    "transcript = result[\"results\"][\"channels\"][0][\"alternatives\"][0][\"transcript\"]"
   ]
  },
  {
   "cell_type": "code",
   "execution_count": 38,
   "metadata": {},
   "outputs": [],
   "source": [
    "from datetime import datetime"
   ]
  },
  {
   "cell_type": "code",
   "execution_count": 41,
   "metadata": {},
   "outputs": [
    {
     "data": {
      "text/plain": [
       "datetime.datetime(2025, 6, 17, 10, 36, 3, 933983)"
      ]
     },
     "execution_count": 41,
     "metadata": {},
     "output_type": "execute_result"
    }
   ],
   "source": [
    "datetime.fromisoformat(str(datetime.now()))"
   ]
  },
  {
   "cell_type": "code",
   "execution_count": null,
   "metadata": {},
   "outputs": [],
   "source": []
  }
 ],
 "metadata": {
  "kernelspec": {
   "display_name": "Python 3 (ipykernel)",
   "language": "python",
   "name": "python3"
  },
  "language_info": {
   "codemirror_mode": {
    "name": "ipython",
    "version": 3
   },
   "file_extension": ".py",
   "mimetype": "text/x-python",
   "name": "python",
   "nbconvert_exporter": "python",
   "pygments_lexer": "ipython3",
   "version": "3.12.10"
  }
 },
 "nbformat": 4,
 "nbformat_minor": 2
}
